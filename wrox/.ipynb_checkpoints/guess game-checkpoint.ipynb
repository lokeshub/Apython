{
 "cells": [
  {
   "cell_type": "markdown",
   "id": "b140a615",
   "metadata": {},
   "source": [
    "#### Guessing game, you have to guess number chosen by computer\n",
    "#### between 1 to 20"
   ]
  },
  {
   "cell_type": "code",
   "execution_count": 1,
   "id": "37cfd64c",
   "metadata": {},
   "outputs": [],
   "source": [
    "target = 15 # chosen by computer"
   ]
  },
  {
   "cell_type": "code",
   "execution_count": 2,
   "id": "d55be762",
   "metadata": {},
   "outputs": [
    {
     "name": "stdout",
     "output_type": "stream",
     "text": [
      "Enter an integer between 1 and 2019\n",
      "19  is too large\n",
      "Enter an integer between 1 and 2010\n",
      "10  is too small\n",
      "Enter an integer between 1 and 204\n",
      "4  is too small\n",
      "Enter an integer between 1 and 206\n",
      "6  is too small\n",
      "Enter an integer between 1 and 2014\n",
      "14  is too small\n",
      "Enter an integer between 1 and 2010\n",
      "10  is too small\n",
      "Enter an integer between 1 and 2019\n",
      "19  is too large\n",
      "Enter an integer between 1 and 2013\n",
      "13  is too small\n",
      "Enter an integer between 1 and 2021\n",
      "21  is too large\n",
      "Enter an integer between 1 and 2015\n",
      "Perfect !!\n"
     ]
    }
   ],
   "source": [
    "while True:\n",
    "    value = input(\"Enter an integer between 1 and 20\")\n",
    "    try:\n",
    "        value = int(value)\n",
    "    except ValueError:\n",
    "        print(\"you were suppose to enter an integer\")\n",
    "        break\n",
    "        \n",
    "    if value > target:\n",
    "        print(value, \" is too large\")\n",
    "    elif value < target:\n",
    "        print(value, \" is too small\")\n",
    "    else:\n",
    "        print(\"Perfect !!\")\n",
    "        break"
   ]
  },
  {
   "cell_type": "code",
   "execution_count": null,
   "id": "d55a5171",
   "metadata": {},
   "outputs": [],
   "source": []
  }
 ],
 "metadata": {
  "kernelspec": {
   "display_name": "Python 3 (ipykernel)",
   "language": "python",
   "name": "python3"
  },
  "language_info": {
   "codemirror_mode": {
    "name": "ipython",
    "version": 3
   },
   "file_extension": ".py",
   "mimetype": "text/x-python",
   "name": "python",
   "nbconvert_exporter": "python",
   "pygments_lexer": "ipython3",
   "version": "3.10.11"
  }
 },
 "nbformat": 4,
 "nbformat_minor": 5
}
