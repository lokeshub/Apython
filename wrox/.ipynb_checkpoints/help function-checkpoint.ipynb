{
 "cells": [
  {
   "cell_type": "code",
   "execution_count": 2,
   "id": "8d1264de",
   "metadata": {},
   "outputs": [],
   "source": [
    "def straightLine(gradient, x, constant):\n",
    "    '''returns y coordinate of a straight line\n",
    "    -> gradient * x + constant\n",
    "    \n",
    "    Mathematical equation y = mx + c, m:gradient c:constant\n",
    "    '''\n",
    "    \n",
    "    return gradient * x + constant"
   ]
  },
  {
   "cell_type": "code",
   "execution_count": 3,
   "id": "e4f6fa40",
   "metadata": {},
   "outputs": [
    {
     "data": {
      "text/plain": [
       "5"
      ]
     },
     "execution_count": 3,
     "metadata": {},
     "output_type": "execute_result"
    }
   ],
   "source": [
    "# test the single line value first\n",
    "straightLine(2, 4, -3)"
   ]
  },
  {
   "cell_type": "code",
   "execution_count": 4,
   "id": "59a1fed4",
   "metadata": {},
   "outputs": [
    {
     "name": "stdout",
     "output_type": "stream",
     "text": [
      "0 -3\n",
      "1 -1\n",
      "2 1\n",
      "3 3\n",
      "4 5\n",
      "5 7\n",
      "6 9\n",
      "7 11\n",
      "8 13\n",
      "9 15\n"
     ]
    }
   ],
   "source": [
    "# Now lets try a complex test of the function using for and range\n",
    "\n",
    "for x in range(10):\n",
    "    print (x, straightLine(2, x, -3))"
   ]
  },
  {
   "cell_type": "code",
   "execution_count": 5,
   "id": "9fb336da",
   "metadata": {},
   "outputs": [
    {
     "name": "stdout",
     "output_type": "stream",
     "text": [
      "Help on function straightLine in module __main__:\n",
      "\n",
      "straightLine(gradient, x, constant)\n",
      "    returns y coordinate of a straight line\n",
      "    -> gradient * x + constant\n",
      "    \n",
      "    Mathematical equation y = mx + c, m:gradient c:constant\n",
      "\n"
     ]
    }
   ],
   "source": [
    "# Now check if help() function correctly recoginzes the function\n",
    "help(straightLine)"
   ]
  },
  {
   "cell_type": "code",
   "execution_count": null,
   "id": "74e25d5e",
   "metadata": {},
   "outputs": [],
   "source": []
  }
 ],
 "metadata": {
  "kernelspec": {
   "display_name": "Python 3 (ipykernel)",
   "language": "python",
   "name": "python3"
  },
  "language_info": {
   "codemirror_mode": {
    "name": "ipython",
    "version": 3
   },
   "file_extension": ".py",
   "mimetype": "text/x-python",
   "name": "python",
   "nbconvert_exporter": "python",
   "pygments_lexer": "ipython3",
   "version": "3.10.11"
  }
 },
 "nbformat": 4,
 "nbformat_minor": 5
}
