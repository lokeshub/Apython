{
 "cells": [
  {
   "cell_type": "markdown",
   "id": "16c23301",
   "metadata": {},
   "source": [
    "### Concepts"
   ]
  },
  {
   "cell_type": "markdown",
   "id": "50d4fa16",
   "metadata": {},
   "source": [
    "<h5> \"==\" can test variable for equality\n",
    "    <h5> \"is\" operator check if the two names refer to same object"
   ]
  },
  {
   "cell_type": "code",
   "execution_count": 1,
   "id": "b5f3bcaa",
   "metadata": {},
   "outputs": [],
   "source": [
    "aString = \"I love python\"\n",
    "anotherString = \"I love python\""
   ]
  },
  {
   "cell_type": "code",
   "execution_count": 2,
   "id": "c16f9a28",
   "metadata": {},
   "outputs": [
    {
     "data": {
      "text/plain": [
       "True"
      ]
     },
     "execution_count": 2,
     "metadata": {},
     "output_type": "execute_result"
    }
   ],
   "source": [
    "aString == anotherString"
   ]
  },
  {
   "cell_type": "code",
   "execution_count": 3,
   "id": "049ee6ab",
   "metadata": {},
   "outputs": [
    {
     "data": {
      "text/plain": [
       "False"
      ]
     },
     "execution_count": 3,
     "metadata": {},
     "output_type": "execute_result"
    }
   ],
   "source": [
    "aString is anotherString"
   ]
  },
  {
   "cell_type": "code",
   "execution_count": 3,
   "id": "ea5cc9ca",
   "metadata": {},
   "outputs": [
    {
     "ename": "SyntaxError",
     "evalue": "invalid syntax (3565248666.py, line 1)",
     "output_type": "error",
     "traceback": [
      "\u001b[1;36m  Cell \u001b[1;32mIn [3], line 1\u001b[1;36m\u001b[0m\n\u001b[1;33m    aString === anotherString\u001b[0m\n\u001b[1;37m              ^\u001b[0m\n\u001b[1;31mSyntaxError\u001b[0m\u001b[1;31m:\u001b[0m invalid syntax\n"
     ]
    }
   ],
   "source": [
    "aString === anotherString"
   ]
  },
  {
   "cell_type": "code",
   "execution_count": 4,
   "id": "68d8542f",
   "metadata": {},
   "outputs": [
    {
     "data": {
      "text/plain": [
       "True"
      ]
     },
     "execution_count": 4,
     "metadata": {},
     "output_type": "execute_result"
    }
   ],
   "source": [
    "thirdString = aString\n",
    "thirdString is aString"
   ]
  },
  {
   "cell_type": "markdown",
   "id": "d989947b",
   "metadata": {},
   "source": [
    "#### Binary operators"
   ]
  },
  {
   "cell_type": "code",
   "execution_count": 5,
   "id": "9b65417d",
   "metadata": {},
   "outputs": [],
   "source": [
    "valueBin = 0b10 # 0b for binary, 0x for hexa"
   ]
  },
  {
   "cell_type": "code",
   "execution_count": 6,
   "id": "f9543cc0",
   "metadata": {},
   "outputs": [
    {
     "data": {
      "text/plain": [
       "2"
      ]
     },
     "execution_count": 6,
     "metadata": {},
     "output_type": "execute_result"
    }
   ],
   "source": [
    "valueBin"
   ]
  },
  {
   "cell_type": "markdown",
   "id": "1ba79afd",
   "metadata": {},
   "source": [
    "#### bitwise and (&), or (|), not(^), and xor(~) are supported"
   ]
  },
  {
   "cell_type": "code",
   "execution_count": 7,
   "id": "f24eed07",
   "metadata": {},
   "outputs": [
    {
     "data": {
      "text/plain": [
       "10"
      ]
     },
     "execution_count": 7,
     "metadata": {},
     "output_type": "execute_result"
    }
   ],
   "source": [
    "resutlOfAnd = int(0b1010) & int(0b1010)\n",
    "resutlOfAnd"
   ]
  },
  {
   "cell_type": "code",
   "execution_count": 8,
   "id": "ab58347b",
   "metadata": {},
   "outputs": [
    {
     "data": {
      "text/plain": [
       "10"
      ]
     },
     "execution_count": 8,
     "metadata": {},
     "output_type": "execute_result"
    }
   ],
   "source": [
    "0b1010 # 10 only in binary"
   ]
  },
  {
   "cell_type": "code",
   "execution_count": 9,
   "id": "e525b4fc",
   "metadata": {},
   "outputs": [
    {
     "data": {
      "text/plain": [
       "15"
      ]
     },
     "execution_count": 9,
     "metadata": {},
     "output_type": "execute_result"
    }
   ],
   "source": [
    "resultOfOr = int(0b1010) | int(0b1111)\n",
    "resultOfOr"
   ]
  },
  {
   "cell_type": "code",
   "execution_count": 10,
   "id": "7dd6b070",
   "metadata": {},
   "outputs": [
    {
     "data": {
      "text/plain": [
       "15"
      ]
     },
     "execution_count": 10,
     "metadata": {},
     "output_type": "execute_result"
    }
   ],
   "source": [
    "# as 0b1111 is 15 in decimal\n",
    "0b1111"
   ]
  },
  {
   "cell_type": "code",
   "execution_count": 11,
   "id": "82bd1a3d",
   "metadata": {},
   "outputs": [
    {
     "data": {
      "text/plain": [
       "14"
      ]
     },
     "execution_count": 11,
     "metadata": {},
     "output_type": "execute_result"
    }
   ],
   "source": [
    "# XOR means if bit changes set to 1\n",
    "resultOfXOR = int(0b1101) ^ int(0b0011)\n",
    "resultOfXOR"
   ]
  },
  {
   "cell_type": "code",
   "execution_count": 12,
   "id": "c5a9539c",
   "metadata": {},
   "outputs": [
    {
     "data": {
      "text/plain": [
       "14"
      ]
     },
     "execution_count": 12,
     "metadata": {},
     "output_type": "execute_result"
    }
   ],
   "source": [
    "# as 0b1110 is 14\n",
    "0b1110"
   ]
  },
  {
   "cell_type": "markdown",
   "id": "0178cc77",
   "metadata": {},
   "source": [
    "#### All references to None use the same single instance. None type represents null object\n",
    "##### None boolean value is false. None is not callable so cannot be used as a conversion function to convert other types to None. None is default value of a Python function"
   ]
  },
  {
   "cell_type": "code",
   "execution_count": 13,
   "id": "81e0fb1d",
   "metadata": {},
   "outputs": [],
   "source": [
    "aVariableNotYetDefined = None"
   ]
  },
  {
   "cell_type": "code",
   "execution_count": 14,
   "id": "22ed936f",
   "metadata": {},
   "outputs": [
    {
     "data": {
      "text/plain": [
       "True"
      ]
     },
     "execution_count": 14,
     "metadata": {},
     "output_type": "execute_result"
    }
   ],
   "source": [
    "aVariableNotYetDefined is None #Identity test not value test so \"==\" not used"
   ]
  },
  {
   "cell_type": "code",
   "execution_count": 15,
   "id": "a94d4f04",
   "metadata": {},
   "outputs": [
    {
     "data": {
      "text/plain": [
       "True"
      ]
     },
     "execution_count": 15,
     "metadata": {},
     "output_type": "execute_result"
    }
   ],
   "source": [
    "aVariableNotYetDefined == None # Still value test is also True"
   ]
  },
  {
   "cell_type": "markdown",
   "id": "6fa02015",
   "metadata": {},
   "source": [
    "##### print function convertes boolean or hexa numbers to integer before printing"
   ]
  },
  {
   "cell_type": "code",
   "execution_count": 16,
   "id": "601726fb",
   "metadata": {},
   "outputs": [
    {
     "name": "stdout",
     "output_type": "stream",
     "text": [
      "10\n"
     ]
    }
   ],
   "source": [
    "print(0b1010)"
   ]
  },
  {
   "cell_type": "code",
   "execution_count": 17,
   "id": "16aa33f0",
   "metadata": {},
   "outputs": [
    {
     "name": "stdout",
     "output_type": "stream",
     "text": [
      "15\n"
     ]
    }
   ],
   "source": [
    "print(0xf)"
   ]
  },
  {
   "cell_type": "markdown",
   "id": "fe27aef6",
   "metadata": {},
   "source": [
    "#### Literal byte strings are represented in qutotes preceded by the letter b. Byte strings are immutable. Byte arrays are similar but they are mutable.\n",
    "\n",
    "##### If you access an individual element using indexing, the returned value is an integer. This means comparing a single character byte string with an indexed string value result in False"
   ]
  },
  {
   "cell_type": "code",
   "execution_count": 18,
   "id": "24dbb1a3",
   "metadata": {},
   "outputs": [],
   "source": [
    "aByteString = b'All the strings'\n",
    "aByteStringOneChar = b'A'"
   ]
  },
  {
   "cell_type": "code",
   "execution_count": 19,
   "id": "706f2dfa",
   "metadata": {},
   "outputs": [
    {
     "data": {
      "text/plain": [
       "False"
      ]
     },
     "execution_count": 19,
     "metadata": {},
     "output_type": "execute_result"
    }
   ],
   "source": [
    "aByteString[0] == aByteStringOneChar"
   ]
  },
  {
   "cell_type": "code",
   "execution_count": 20,
   "id": "4597019e",
   "metadata": {},
   "outputs": [
    {
     "data": {
      "text/plain": [
       "int"
      ]
     },
     "execution_count": 20,
     "metadata": {},
     "output_type": "execute_result"
    }
   ],
   "source": [
    "type(aByteString[0])"
   ]
  },
  {
   "cell_type": "code",
   "execution_count": 21,
   "id": "295de103",
   "metadata": {},
   "outputs": [
    {
     "data": {
      "text/plain": [
       "bytes"
      ]
     },
     "execution_count": 21,
     "metadata": {},
     "output_type": "execute_result"
    }
   ],
   "source": [
    "type(aByteStringOneChar)"
   ]
  },
  {
   "cell_type": "code",
   "execution_count": 22,
   "id": "cf2f35e2",
   "metadata": {},
   "outputs": [
    {
     "data": {
      "text/plain": [
       "65"
      ]
     },
     "execution_count": 22,
     "metadata": {},
     "output_type": "execute_result"
    }
   ],
   "source": [
    "aByteString[0]"
   ]
  },
  {
   "cell_type": "code",
   "execution_count": 23,
   "id": "def63020",
   "metadata": {},
   "outputs": [
    {
     "data": {
      "text/plain": [
       "b'A'"
      ]
     },
     "execution_count": 23,
     "metadata": {},
     "output_type": "execute_result"
    }
   ],
   "source": [
    "aByteStringOneChar"
   ]
  },
  {
   "cell_type": "code",
   "execution_count": 24,
   "id": "9b155c24",
   "metadata": {},
   "outputs": [
    {
     "data": {
      "text/plain": [
       "b'All the strings'"
      ]
     },
     "execution_count": 24,
     "metadata": {},
     "output_type": "execute_result"
    }
   ],
   "source": [
    "aByteString"
   ]
  },
  {
   "cell_type": "markdown",
   "id": "3adba1ec",
   "metadata": {},
   "source": [
    "### Tuples"
   ]
  },
  {
   "cell_type": "code",
   "execution_count": 25,
   "id": "db5f0cca",
   "metadata": {},
   "outputs": [],
   "source": [
    "(q,r) = divmod(17,4) # unpacking, extract valures of tuple into descrte variables"
   ]
  },
  {
   "cell_type": "code",
   "execution_count": 26,
   "id": "1d09a16f",
   "metadata": {},
   "outputs": [
    {
     "data": {
      "text/plain": [
       "(4, 1)"
      ]
     },
     "execution_count": 26,
     "metadata": {},
     "output_type": "execute_result"
    }
   ],
   "source": [
    "q,r"
   ]
  },
  {
   "cell_type": "code",
   "execution_count": 27,
   "id": "5dbcae28",
   "metadata": {},
   "outputs": [
    {
     "data": {
      "text/plain": [
       "tuple"
      ]
     },
     "execution_count": 27,
     "metadata": {},
     "output_type": "execute_result"
    }
   ],
   "source": [
    "t = 1, 2, 3  # paranthesis is not a requirement for being tuple\n",
    "type(t)"
   ]
  },
  {
   "cell_type": "markdown",
   "id": "c10b9fd0",
   "metadata": {},
   "source": [
    "#### named collection\n",
    "##### A named tupbe class in collections module allows elements to be indexed by name rather thanposition. Advantages of dictionry with copactness and immutability of a tuple"
   ]
  },
  {
   "cell_type": "code",
   "execution_count": 28,
   "id": "4e86c454",
   "metadata": {},
   "outputs": [],
   "source": [
    "import collections as col\n",
    "employee = col.namedtuple(\"Employee\", (\"name\", \"city\",\"role\"))"
   ]
  },
  {
   "cell_type": "code",
   "execution_count": 29,
   "id": "39ba66f8",
   "metadata": {},
   "outputs": [],
   "source": [
    "cto = employee(\"musk\", \"SF\", \"CTO\")\n",
    "ceo = employee(\"Jobs\", \"SF\", \"CEO\")"
   ]
  },
  {
   "cell_type": "code",
   "execution_count": 30,
   "id": "068138d3",
   "metadata": {},
   "outputs": [
    {
     "name": "stdout",
     "output_type": "stream",
     "text": [
      "CTO\n"
     ]
    }
   ],
   "source": [
    "print(cto.role)"
   ]
  },
  {
   "cell_type": "code",
   "execution_count": 31,
   "id": "4553020f",
   "metadata": {},
   "outputs": [
    {
     "name": "stdout",
     "output_type": "stream",
     "text": [
      "Jobs\n"
     ]
    }
   ],
   "source": [
    "print(ceo.name)"
   ]
  },
  {
   "cell_type": "code",
   "execution_count": 32,
   "id": "26340620",
   "metadata": {},
   "outputs": [
    {
     "data": {
      "text/plain": [
       "type"
      ]
     },
     "execution_count": 32,
     "metadata": {},
     "output_type": "execute_result"
    }
   ],
   "source": [
    "type(employee)"
   ]
  },
  {
   "cell_type": "code",
   "execution_count": 33,
   "id": "c8bb30f2",
   "metadata": {},
   "outputs": [
    {
     "data": {
      "text/plain": [
       "__main__.Employee"
      ]
     },
     "execution_count": 33,
     "metadata": {},
     "output_type": "execute_result"
    }
   ],
   "source": [
    "type(cto)"
   ]
  },
  {
   "cell_type": "code",
   "execution_count": 34,
   "id": "ec18e187",
   "metadata": {},
   "outputs": [
    {
     "data": {
      "text/plain": [
       "str"
      ]
     },
     "execution_count": 34,
     "metadata": {},
     "output_type": "execute_result"
    }
   ],
   "source": [
    "type(cto.name)"
   ]
  },
  {
   "cell_type": "markdown",
   "id": "12d7211f",
   "metadata": {},
   "source": [
    "#### Lists ####"
   ]
  },
  {
   "cell_type": "code",
   "execution_count": 35,
   "id": "e0fdec05",
   "metadata": {},
   "outputs": [],
   "source": [
    "bike = [\"Bajaj\", \"Pulsar\", \"150cc\"]\n",
    "car = [\"Hyundai\", \"i10\", \"1200cc\"]"
   ]
  },
  {
   "cell_type": "code",
   "execution_count": 36,
   "id": "a6c6c235",
   "metadata": {},
   "outputs": [],
   "source": [
    "allVehicles = bike + car # Concatenates"
   ]
  },
  {
   "cell_type": "code",
   "execution_count": 37,
   "id": "deb3ca2e",
   "metadata": {},
   "outputs": [
    {
     "data": {
      "text/plain": [
       "['Bajaj', 'Pulsar', '150cc', 'Hyundai', 'i10', '1200cc']"
      ]
     },
     "execution_count": 37,
     "metadata": {},
     "output_type": "execute_result"
    }
   ],
   "source": [
    "allVehicles"
   ]
  },
  {
   "cell_type": "code",
   "execution_count": 38,
   "id": "8325f7f8",
   "metadata": {},
   "outputs": [
    {
     "data": {
      "text/plain": [
       "['Hyundai', 'i10', '1200cc']"
      ]
     },
     "execution_count": 38,
     "metadata": {},
     "output_type": "execute_result"
    }
   ],
   "source": [
    "car"
   ]
  },
  {
   "cell_type": "code",
   "execution_count": 39,
   "id": "69ac1f88",
   "metadata": {},
   "outputs": [],
   "source": [
    "power = car.pop()"
   ]
  },
  {
   "cell_type": "code",
   "execution_count": 40,
   "id": "0a6ddbae",
   "metadata": {},
   "outputs": [
    {
     "data": {
      "text/plain": [
       "'1200cc'"
      ]
     },
     "execution_count": 40,
     "metadata": {},
     "output_type": "execute_result"
    }
   ],
   "source": [
    "power"
   ]
  },
  {
   "cell_type": "code",
   "execution_count": 41,
   "id": "2695c6b4",
   "metadata": {},
   "outputs": [
    {
     "data": {
      "text/plain": [
       "['Hyundai', 'i10']"
      ]
     },
     "execution_count": 41,
     "metadata": {},
     "output_type": "execute_result"
    }
   ],
   "source": [
    "car"
   ]
  },
  {
   "cell_type": "code",
   "execution_count": 42,
   "id": "a1e54e95",
   "metadata": {},
   "outputs": [
    {
     "data": {
      "text/plain": [
       "['Hyundai', 'i10', 'fourWheel']"
      ]
     },
     "execution_count": 42,
     "metadata": {},
     "output_type": "execute_result"
    }
   ],
   "source": [
    "car.append(\"fourWheel\")\n",
    "car"
   ]
  },
  {
   "cell_type": "code",
   "execution_count": 43,
   "id": "3c33476d",
   "metadata": {},
   "outputs": [],
   "source": [
    "color = [\"black\", \"red\", \"white\"]\n"
   ]
  },
  {
   "cell_type": "code",
   "execution_count": 44,
   "id": "c9ee6259",
   "metadata": {},
   "outputs": [
    {
     "data": {
      "text/plain": [
       "['Hyundai', 'i10', 'fourWheel', 'black', 'red', 'white']"
      ]
     },
     "execution_count": 44,
     "metadata": {},
     "output_type": "execute_result"
    }
   ],
   "source": [
    "car.extend(color)    # extend add the content of the list to end of another\n",
    "car"
   ]
  },
  {
   "cell_type": "code",
   "execution_count": 45,
   "id": "e732ce81",
   "metadata": {},
   "outputs": [
    {
     "data": {
      "text/plain": [
       "1"
      ]
     },
     "execution_count": 45,
     "metadata": {},
     "output_type": "execute_result"
    }
   ],
   "source": [
    "idOfModel = car.index('i10')   # index returns first instance of the item\n",
    "idOfModel"
   ]
  },
  {
   "cell_type": "code",
   "execution_count": 46,
   "id": "7ddf7cf5",
   "metadata": {},
   "outputs": [
    {
     "data": {
      "text/plain": [
       "1"
      ]
     },
     "execution_count": 46,
     "metadata": {},
     "output_type": "execute_result"
    }
   ],
   "source": [
    "totalRed = car.count(\"red\")\n",
    "totalRed"
   ]
  },
  {
   "cell_type": "code",
   "execution_count": 47,
   "id": "fa28219c",
   "metadata": {},
   "outputs": [
    {
     "data": {
      "text/plain": [
       "['Hyundai', 'i10', 'fourWheel', 'black', 'grey', 'red', 'white']"
      ]
     },
     "execution_count": 47,
     "metadata": {},
     "output_type": "execute_result"
    }
   ],
   "source": [
    "car.insert(4, \"grey\")  # insert at index starting from 0\n",
    "car"
   ]
  },
  {
   "cell_type": "code",
   "execution_count": 48,
   "id": "c448771a",
   "metadata": {},
   "outputs": [
    {
     "data": {
      "text/plain": [
       "['Bajaj', 'Pulsar']"
      ]
     },
     "execution_count": 48,
     "metadata": {},
     "output_type": "execute_result"
    }
   ],
   "source": [
    "bike.remove(\"150cc\")\n",
    "bike"
   ]
  },
  {
   "cell_type": "code",
   "execution_count": 49,
   "id": "b536b9eb",
   "metadata": {},
   "outputs": [
    {
     "data": {
      "text/plain": [
       "['Hyundai', 'i10', 'fourWheel', 'black', 'grey', 'red', 'white']"
      ]
     },
     "execution_count": 49,
     "metadata": {},
     "output_type": "execute_result"
    }
   ],
   "source": [
    "car"
   ]
  },
  {
   "cell_type": "code",
   "execution_count": 50,
   "id": "545e1edd",
   "metadata": {},
   "outputs": [
    {
     "data": {
      "text/plain": [
       "['Hyundai', 'black', 'fourWheel', 'grey', 'i10', 'red', 'white']"
      ]
     },
     "execution_count": 50,
     "metadata": {},
     "output_type": "execute_result"
    }
   ],
   "source": [
    "newCar = sorted(car)  # only returns sorted list does not sort inline\n",
    "newCar"
   ]
  },
  {
   "cell_type": "code",
   "execution_count": 51,
   "id": "51936b3b",
   "metadata": {},
   "outputs": [
    {
     "data": {
      "text/plain": [
       "['Hyundai', 'i10', 'fourWheel', 'black', 'grey', 'red', 'white']"
      ]
     },
     "execution_count": 51,
     "metadata": {},
     "output_type": "execute_result"
    }
   ],
   "source": [
    "car  # remains same as before sorted function"
   ]
  },
  {
   "cell_type": "code",
   "execution_count": 52,
   "id": "45931584",
   "metadata": {},
   "outputs": [
    {
     "data": {
      "text/plain": [
       "['Hyundai', 'black', 'fourWheel', 'grey', 'i10', 'red', 'white']"
      ]
     },
     "execution_count": 52,
     "metadata": {},
     "output_type": "execute_result"
    }
   ],
   "source": [
    "car.sort()  # now it will be sorted inline\n",
    "car"
   ]
  },
  {
   "cell_type": "markdown",
   "id": "d954d32a",
   "metadata": {},
   "source": [
    "#### Dictionary"
   ]
  },
  {
   "cell_type": "code",
   "execution_count": 53,
   "id": "0d10a869",
   "metadata": {},
   "outputs": [],
   "source": [
    "months = {1:\"jan\", 2:\"feb\", 3:\"mar\"}"
   ]
  },
  {
   "cell_type": "code",
   "execution_count": 54,
   "id": "2a7cfd6c",
   "metadata": {},
   "outputs": [
    {
     "data": {
      "text/plain": [
       "dict_items([(1, 'jan'), (2, 'feb'), (3, 'mar')])"
      ]
     },
     "execution_count": 54,
     "metadata": {},
     "output_type": "execute_result"
    }
   ],
   "source": [
    "months.items()  # returns key-value tuples"
   ]
  },
  {
   "cell_type": "code",
   "execution_count": 55,
   "id": "7c38aa0e",
   "metadata": {},
   "outputs": [
    {
     "data": {
      "text/plain": [
       "'mar'"
      ]
     },
     "execution_count": 55,
     "metadata": {},
     "output_type": "execute_result"
    }
   ],
   "source": [
    "# above key-value tuples can be assigned\n",
    "[(num, mon), (one, two), (three, four)] = months.items()\n",
    "four"
   ]
  },
  {
   "cell_type": "code",
   "execution_count": 56,
   "id": "a424f8b2",
   "metadata": {},
   "outputs": [],
   "source": [
    "months.get(5) #returns None"
   ]
  },
  {
   "cell_type": "code",
   "execution_count": 57,
   "id": "1eb2e477",
   "metadata": {},
   "outputs": [
    {
     "data": {
      "text/plain": [
       "'feb'"
      ]
     },
     "execution_count": 57,
     "metadata": {},
     "output_type": "execute_result"
    }
   ],
   "source": [
    "months.get(2)"
   ]
  },
  {
   "cell_type": "code",
   "execution_count": 58,
   "id": "ee13d8a5",
   "metadata": {},
   "outputs": [
    {
     "data": {
      "text/plain": [
       "True"
      ]
     },
     "execution_count": 58,
     "metadata": {},
     "output_type": "execute_result"
    }
   ],
   "source": [
    "# To check if key is not present we check if value is None\n",
    "months.get(7) == None"
   ]
  },
  {
   "cell_type": "code",
   "execution_count": 59,
   "id": "6dd5c381",
   "metadata": {},
   "outputs": [
    {
     "data": {
      "text/plain": [
       "'feb'"
      ]
     },
     "execution_count": 59,
     "metadata": {},
     "output_type": "execute_result"
    }
   ],
   "source": [
    "mon = months.pop(2) # removes one item permanently\n",
    "mon"
   ]
  },
  {
   "cell_type": "code",
   "execution_count": 60,
   "id": "8af4d5b9",
   "metadata": {},
   "outputs": [
    {
     "data": {
      "text/plain": [
       "{1: 'jan', 3: 'mar'}"
      ]
     },
     "execution_count": 60,
     "metadata": {},
     "output_type": "execute_result"
    }
   ],
   "source": [
    "months"
   ]
  },
  {
   "cell_type": "code",
   "execution_count": 61,
   "id": "3fbe3a9d",
   "metadata": {},
   "outputs": [
    {
     "data": {
      "text/plain": [
       "{1: 'jan', 3: 'mar', 2: 'feb'}"
      ]
     },
     "execution_count": 61,
     "metadata": {},
     "output_type": "execute_result"
    }
   ],
   "source": [
    "months[2] = \"feb\"  # add a key-value to dictionary\n",
    "months"
   ]
  },
  {
   "cell_type": "code",
   "execution_count": 62,
   "id": "cb00814b",
   "metadata": {},
   "outputs": [
    {
     "data": {
      "text/plain": [
       "{1: 'jan', 3: 'mar', 2: 'feb', 4: None}"
      ]
     },
     "execution_count": 62,
     "metadata": {},
     "output_type": "execute_result"
    }
   ],
   "source": [
    "months.setdefault(4) # setdefault Works like get but if key does not exist then create one with \"None\" as value\n",
    "months"
   ]
  },
  {
   "cell_type": "code",
   "execution_count": 63,
   "id": "de9c053d",
   "metadata": {},
   "outputs": [
    {
     "data": {
      "text/plain": [
       "'feb'"
      ]
     },
     "execution_count": 63,
     "metadata": {},
     "output_type": "execute_result"
    }
   ],
   "source": [
    "months.setdefault(2)"
   ]
  },
  {
   "cell_type": "code",
   "execution_count": 64,
   "id": "7984588a",
   "metadata": {},
   "outputs": [
    {
     "data": {
      "text/plain": [
       "{1: 'jan', 3: 'mar', 2: 'feb', 4: None}"
      ]
     },
     "execution_count": 64,
     "metadata": {},
     "output_type": "execute_result"
    }
   ],
   "source": [
    "months"
   ]
  },
  {
   "cell_type": "code",
   "execution_count": 65,
   "id": "4f497377",
   "metadata": {},
   "outputs": [
    {
     "data": {
      "text/plain": [
       "{1: 'jan', 3: 'mar', 2: 'feb', 4: 'April'}"
      ]
     },
     "execution_count": 65,
     "metadata": {},
     "output_type": "execute_result"
    }
   ],
   "source": [
    "months[4] = \"April\" # Assign a value to existing key\n",
    "months"
   ]
  },
  {
   "cell_type": "markdown",
   "id": "6d0b4aa4",
   "metadata": {},
   "source": [
    "\"fromkeys\" operation initializeds a dictionary using a sequence to provide the keys and given default value (None if no value)\n",
    "Usually called as dict.fromkeys()"
   ]
  },
  {
   "cell_type": "code",
   "execution_count": 66,
   "id": "0eef2638",
   "metadata": {},
   "outputs": [
    {
     "data": {
      "text/plain": [
       "{'s': None, 'u': None, 'm': None, 'e': None, 'r': None}"
      ]
     },
     "execution_count": 66,
     "metadata": {},
     "output_type": "execute_result"
    }
   ],
   "source": [
    "calender = dict.fromkeys(\"summer\")  #None value by default\n",
    "calender"
   ]
  },
  {
   "cell_type": "code",
   "execution_count": 67,
   "id": "5c4c3db5",
   "metadata": {},
   "outputs": [],
   "source": [
    "days = dict.fromkeys((\"mon\", \"tue\", \"wed\", \"thu\", \"fri\", \"sat\", \"sun\"), \"one\")"
   ]
  },
  {
   "cell_type": "code",
   "execution_count": 68,
   "id": "bd5e14bc",
   "metadata": {},
   "outputs": [
    {
     "data": {
      "text/plain": [
       "{'mon': 'one',\n",
       " 'tue': 'one',\n",
       " 'wed': 'one',\n",
       " 'thu': 'one',\n",
       " 'fri': 'one',\n",
       " 'sat': 'one',\n",
       " 'sun': 'one'}"
      ]
     },
     "execution_count": 68,
     "metadata": {},
     "output_type": "execute_result"
    }
   ],
   "source": [
    "days  # default vaues for each as \"one\""
   ]
  },
  {
   "cell_type": "markdown",
   "id": "8776d7db",
   "metadata": {},
   "source": [
    "#### Sets"
   ]
  },
  {
   "cell_type": "code",
   "execution_count": 69,
   "id": "86bc25da",
   "metadata": {},
   "outputs": [],
   "source": [
    "numbers = {1, 2, 3}"
   ]
  },
  {
   "cell_type": "code",
   "execution_count": 70,
   "id": "6cfec79f",
   "metadata": {},
   "outputs": [
    {
     "data": {
      "text/plain": [
       "1"
      ]
     },
     "execution_count": 70,
     "metadata": {},
     "output_type": "execute_result"
    }
   ],
   "source": [
    "numbers.pop()"
   ]
  },
  {
   "cell_type": "code",
   "execution_count": 71,
   "id": "6042d77c",
   "metadata": {},
   "outputs": [
    {
     "data": {
      "text/plain": [
       "{2, 3}"
      ]
     },
     "execution_count": 71,
     "metadata": {},
     "output_type": "execute_result"
    }
   ],
   "source": [
    "numbers"
   ]
  },
  {
   "cell_type": "code",
   "execution_count": 72,
   "id": "c2accd76",
   "metadata": {},
   "outputs": [
    {
     "data": {
      "text/plain": [
       "2"
      ]
     },
     "execution_count": 72,
     "metadata": {},
     "output_type": "execute_result"
    }
   ],
   "source": [
    "numbers.pop()"
   ]
  },
  {
   "cell_type": "code",
   "execution_count": 73,
   "id": "1ae1d197",
   "metadata": {},
   "outputs": [
    {
     "data": {
      "text/plain": [
       "3"
      ]
     },
     "execution_count": 73,
     "metadata": {},
     "output_type": "execute_result"
    }
   ],
   "source": [
    "numbers.pop()"
   ]
  },
  {
   "cell_type": "code",
   "execution_count": 74,
   "id": "2bad50ee",
   "metadata": {},
   "outputs": [
    {
     "data": {
      "text/plain": [
       "set()"
      ]
     },
     "execution_count": 74,
     "metadata": {},
     "output_type": "execute_result"
    }
   ],
   "source": [
    "numbers"
   ]
  },
  {
   "cell_type": "code",
   "execution_count": 75,
   "id": "a06dffaf",
   "metadata": {},
   "outputs": [
    {
     "data": {
      "text/plain": [
       "set"
      ]
     },
     "execution_count": 75,
     "metadata": {},
     "output_type": "execute_result"
    }
   ],
   "source": [
    "type(numbers)"
   ]
  },
  {
   "cell_type": "code",
   "execution_count": 76,
   "id": "10a938cd",
   "metadata": {},
   "outputs": [
    {
     "name": "stdout",
     "output_type": "stream",
     "text": [
      "all gone, nothing, nada, empty, khali\n"
     ]
    }
   ],
   "source": [
    "# Because of above, the only way to test empty set is\n",
    "# if givenset == set(), as \"{}\" is to test empty dictionary\n",
    "if numbers == set():\n",
    "    print(\"all gone, nothing, nada, empty, khali\")\n",
    "else:\n",
    "    print(\"Well something is there\")"
   ]
  },
  {
   "cell_type": "code",
   "execution_count": 77,
   "id": "09c41730",
   "metadata": {},
   "outputs": [
    {
     "data": {
      "text/plain": [
       "False"
      ]
     },
     "execution_count": 77,
     "metadata": {},
     "output_type": "execute_result"
    }
   ],
   "source": [
    "# Below will return fale as we are testig empty set with empty dictionary\n",
    "numbers == {}   "
   ]
  },
  {
   "cell_type": "code",
   "execution_count": 78,
   "id": "0062f522",
   "metadata": {},
   "outputs": [
    {
     "data": {
      "text/plain": [
       "[1, 2, 3, 4, 5, 6]"
      ]
     },
     "execution_count": 78,
     "metadata": {},
     "output_type": "execute_result"
    }
   ],
   "source": [
    "numbers = {4,1,3,6,2,5}\n",
    "sorted(numbers)"
   ]
  },
  {
   "cell_type": "code",
   "execution_count": 79,
   "id": "23c24202",
   "metadata": {},
   "outputs": [
    {
     "data": {
      "text/plain": [
       "{1, 2, 3, 4, 5, 6}"
      ]
     },
     "execution_count": 79,
     "metadata": {},
     "output_type": "execute_result"
    }
   ],
   "source": [
    "numbers"
   ]
  },
  {
   "cell_type": "markdown",
   "id": "6da5288b",
   "metadata": {},
   "source": [
    "#### Operations on set: in issubset issuperset union intersection difference symmetric_difference(elements that are non in intersection)"
   ]
  },
  {
   "cell_type": "code",
   "execution_count": 80,
   "id": "bccfd362",
   "metadata": {},
   "outputs": [
    {
     "data": {
      "text/plain": [
       "{1, 2, 3, 4, 5, 6, 8}"
      ]
     },
     "execution_count": 80,
     "metadata": {},
     "output_type": "execute_result"
    }
   ],
   "source": [
    "numbers.update({8}) #way to add a new element in set\n",
    "numbers"
   ]
  },
  {
   "cell_type": "markdown",
   "id": "54be076b",
   "metadata": {},
   "source": [
    "##### ###############"
   ]
  },
  {
   "cell_type": "markdown",
   "id": "1900496b",
   "metadata": {},
   "source": [
    "Managing \"runtime context\". To handle a temporary resource like an open file  or a concurrent thread python uses keyword **with** and a **context manager** protocol"
   ]
  },
  {
   "cell_type": "markdown",
   "id": "5426c6f1",
   "metadata": {},
   "source": [
    "Example:"
   ]
  },
  {
   "cell_type": "markdown",
   "id": "49f6e6e0",
   "metadata": {},
   "source": [
    "```\n",
    "with open(filename, mode) as contextName:\n",
    "    process file here\n",
    "````"
   ]
  },
  {
   "cell_type": "code",
   "execution_count": 81,
   "id": "a578541f",
   "metadata": {},
   "outputs": [],
   "source": [
    "with open(\"text.txt\", \"w\") as textFile:\n",
    "    textFile.write(\"Success!!\")\n",
    "    \n",
    "# No need to close exclusively    "
   ]
  },
  {
   "cell_type": "code",
   "execution_count": 82,
   "id": "e1b08449",
   "metadata": {},
   "outputs": [
    {
     "data": {
      "text/plain": [
       "'Success!!'"
      ]
     },
     "execution_count": 82,
     "metadata": {},
     "output_type": "execute_result"
    }
   ],
   "source": [
    "with open(\"text.txt\", \"r\") as dataFile:\n",
    "    content = dataFile.read()\n",
    "    \n",
    "content"
   ]
  },
  {
   "cell_type": "code",
   "execution_count": 83,
   "id": "df7a92f1",
   "metadata": {},
   "outputs": [],
   "source": [
    "import os\n",
    "os.remove(\"text.txt\")  # Removing the file we do not need now"
   ]
  },
  {
   "cell_type": "markdown",
   "id": "f0a3eb5c",
   "metadata": {},
   "source": [
    "### Game to learn input, try/expect, break and while"
   ]
  },
  {
   "cell_type": "code",
   "execution_count": 84,
   "id": "de84f1d9",
   "metadata": {},
   "outputs": [
    {
     "name": "stdout",
     "output_type": "stream",
     "text": [
      "Enter an integer between 1 and 2014\n",
      "14  is too small\n",
      "Enter an integer between 1 and 2026\n",
      "26  is too large\n",
      "Enter an integer between 1 and 2015\n",
      "Perfect!\n"
     ]
    }
   ],
   "source": [
    "target = 15\n",
    "while True:\n",
    "    value = input(\"Enter an integer between 1 and 20\")\n",
    "    try:\n",
    "        value = int(value)\n",
    "    except ValueError:\n",
    "        print(\"You were supposet to enter an integer\")\n",
    "        break\n",
    "        \n",
    "    if value > target:\n",
    "        print(value, \" is too large\")\n",
    "    elif value < target:\n",
    "        print(value, \" is too small\")\n",
    "    else:\n",
    "        print(\"Perfect!\")\n",
    "        break"
   ]
  },
  {
   "cell_type": "markdown",
   "id": "f916b083",
   "metadata": {},
   "source": [
    "##### Generator function"
   ]
  },
  {
   "cell_type": "code",
   "execution_count": 85,
   "id": "48a6505b",
   "metadata": {},
   "outputs": [],
   "source": [
    "def odds(start = 1):\n",
    "    '''return all odd numbers from start upwards'''\n",
    "    \n",
    "    if int(start) % 2 == 0: start = int(start + 1)\n",
    "    \n",
    "    while True: # Yes this can run to infinite. Taken care in calling function\n",
    "        yield start\n",
    "        start = start + 2"
   ]
  },
  {
   "cell_type": "code",
   "execution_count": 86,
   "id": "052d5ba0",
   "metadata": {},
   "outputs": [
    {
     "name": "stdout",
     "output_type": "stream",
     "text": [
      "1\n",
      "3\n",
      "5\n",
      "7\n",
      "9\n"
     ]
    }
   ],
   "source": [
    "for n in odds(1):\n",
    "    if n > 9: break  #avoid infinite loop\n",
    "    else: print(n)"
   ]
  },
  {
   "cell_type": "code",
   "execution_count": 87,
   "id": "4bafee0f",
   "metadata": {},
   "outputs": [
    {
     "name": "stdout",
     "output_type": "stream",
     "text": [
      "3\n",
      "5\n",
      "7\n",
      "9\n",
      "11\n",
      "13\n",
      "15\n",
      "17\n",
      "19\n"
     ]
    }
   ],
   "source": [
    "for j in odds(2):\n",
    "    if j > 20: break\n",
    "    else: print(j)"
   ]
  },
  {
   "cell_type": "markdown",
   "id": "659b90b0",
   "metadata": {},
   "source": [
    "#### lambda functions"
   ]
  },
  {
   "cell_type": "code",
   "execution_count": null,
   "id": "20f4d4b9",
   "metadata": {},
   "outputs": [],
   "source": []
  }
 ],
 "metadata": {
  "kernelspec": {
   "display_name": "Python 3 (ipykernel)",
   "language": "python",
   "name": "python3"
  },
  "language_info": {
   "codemirror_mode": {
    "name": "ipython",
    "version": 3
   },
   "file_extension": ".py",
   "mimetype": "text/x-python",
   "name": "python",
   "nbconvert_exporter": "python",
   "pygments_lexer": "ipython3",
   "version": "3.10.11"
  }
 },
 "nbformat": 4,
 "nbformat_minor": 5
}
