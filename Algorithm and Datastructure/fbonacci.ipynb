{
 "cells": [
  {
   "cell_type": "code",
   "execution_count": 1,
   "id": "0d904dfe",
   "metadata": {},
   "outputs": [
    {
     "name": "stdout",
     "output_type": "stream",
     "text": [
      "0 1 1 2 3 5 8 13 21 34 55 "
     ]
    }
   ],
   "source": [
    "def fibonacci(n):\n",
    "  \"\"\"Calculates the nth Fibonacci number recursively.\"\"\"\n",
    "  if n <= 1:\n",
    "    return n\n",
    "  else:\n",
    "    return fibonacci(n-1) + fibonacci(n-2)\n",
    "\n",
    "def fibonacci_sequence(n):\n",
    "  \"\"\"Prints the Fibonacci sequence from 0 to n.\"\"\"\n",
    "  for i in range(n+1):\n",
    "    print(fibonacci(i), end=\" \")\n",
    "\n",
    "# Example usage:\n",
    "n = 10\n",
    "fibonacci_sequence(n)\n"
   ]
  },
  {
   "cell_type": "markdown",
   "id": "7b711aa2",
   "metadata": {},
   "source": [
    "## Optimized code below"
   ]
  },
  {
   "cell_type": "code",
   "execution_count": 22,
   "id": "854e167a",
   "metadata": {},
   "outputs": [
    {
     "name": "stdout",
     "output_type": "stream",
     "text": [
      "n is: 0\n",
      "n is: 1\n",
      "n is: 2\n",
      "n is: 1\n",
      "n is: 0\n",
      "n is: 2 because fib(n-1) + fib(n-2)\n",
      "And cache is \n",
      "{2: 1}\n",
      "n is: 3\n",
      "n is: 2\n",
      "n is: 1\n",
      "n is: 3 because fib(n-1) + fib(n-2)\n",
      "And cache is \n",
      "{2: 1, 3: 2}\n",
      "n is: 4\n",
      "n is: 3\n",
      "n is: 2\n",
      "n is: 4 because fib(n-1) + fib(n-2)\n",
      "And cache is \n",
      "{2: 1, 3: 2, 4: 3}\n",
      "n is: 5\n",
      "n is: 4\n",
      "n is: 3\n",
      "n is: 5 because fib(n-1) + fib(n-2)\n",
      "And cache is \n",
      "{2: 1, 3: 2, 4: 3, 5: 5}\n",
      "n is: 6\n",
      "n is: 5\n",
      "n is: 4\n",
      "n is: 6 because fib(n-1) + fib(n-2)\n",
      "And cache is \n",
      "{2: 1, 3: 2, 4: 3, 5: 5, 6: 8}\n",
      "n is: 7\n",
      "n is: 6\n",
      "n is: 5\n",
      "n is: 7 because fib(n-1) + fib(n-2)\n",
      "And cache is \n",
      "{2: 1, 3: 2, 4: 3, 5: 5, 6: 8, 7: 13}\n",
      "n is: 8\n",
      "n is: 7\n",
      "n is: 6\n",
      "n is: 8 because fib(n-1) + fib(n-2)\n",
      "And cache is \n",
      "{2: 1, 3: 2, 4: 3, 5: 5, 6: 8, 7: 13, 8: 21}\n",
      "n is: 9\n",
      "n is: 8\n",
      "n is: 7\n",
      "n is: 9 because fib(n-1) + fib(n-2)\n",
      "And cache is \n",
      "{2: 1, 3: 2, 4: 3, 5: 5, 6: 8, 7: 13, 8: 21, 9: 34}\n",
      "n is: 10\n",
      "n is: 9\n",
      "n is: 8\n",
      "n is: 10 because fib(n-1) + fib(n-2)\n",
      "And cache is \n",
      "{2: 1, 3: 2, 4: 3, 5: 5, 6: 8, 7: 13, 8: 21, 9: 34, 10: 55}\n",
      "[0, 1, 1, 2, 3, 5, 8, 13, 21, 34, 55]\n"
     ]
    }
   ],
   "source": [
    "def fib_with_cache(n, cache={}):\n",
    "  \"\"\"Calculates Fibonacci numbers from 0 to n using recursion and caching.\n",
    "\n",
    "  Args:\n",
    "    n: The upper limit for Fibonacci numbers.\n",
    "    cache: An optional dictionary to store calculated Fibonacci numbers.\n",
    "\n",
    "  Returns:\n",
    "    A list of Fibonacci numbers from 0 to n.\n",
    "  \"\"\"\n",
    "#   print(cache)\n",
    "\n",
    "  def fib(n):\n",
    "    print(\"n is: \"+ str(n))\n",
    "    if n <= 1:\n",
    "      return n\n",
    "    if n in cache:\n",
    "#       print(\"--\")\n",
    "#       print(cache)\n",
    "      return cache[n]\n",
    "    cache[n] = fib(n - 1) + fib(n - 2)\n",
    "    print(\"n is: \" + str(n) + \" because fib(n-1) + fib(n-2)\")\n",
    "    print(\"And cache is \")\n",
    "    print(cache)\n",
    "    return cache[n]\n",
    "\n",
    "  return [fib(i) for i in range(n + 1)]\n",
    "\n",
    "# Example usage:\n",
    "n = 10\n",
    "fibonacci_numbers = fib_with_cache(n)\n",
    "print(fibonacci_numbers)\n"
   ]
  },
  {
   "cell_type": "code",
   "execution_count": null,
   "id": "231a091c",
   "metadata": {},
   "outputs": [],
   "source": []
  }
 ],
 "metadata": {
  "kernelspec": {
   "display_name": "Python 3 (ipykernel)",
   "language": "python",
   "name": "python3"
  },
  "language_info": {
   "codemirror_mode": {
    "name": "ipython",
    "version": 3
   },
   "file_extension": ".py",
   "mimetype": "text/x-python",
   "name": "python",
   "nbconvert_exporter": "python",
   "pygments_lexer": "ipython3",
   "version": "3.10.11"
  }
 },
 "nbformat": 4,
 "nbformat_minor": 5
}
