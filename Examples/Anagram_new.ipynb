{
 "cells": [
  {
   "cell_type": "code",
   "execution_count": 1,
   "id": "b9de11f1",
   "metadata": {},
   "outputs": [],
   "source": [
    "def createTree(nameList):\n",
    "    charToNum = {}\n",
    "    for ch in nameList:\n",
    "        if ch not in charToNum:\n",
    "            charToNum[ch] = 1\n",
    "        else:\n",
    "            charToNum[ch] = charToNum[ch] + 1\n",
    "    \n",
    "    return charToNum"
   ]
  },
  {
   "cell_type": "code",
   "execution_count": 2,
   "id": "573a87b2",
   "metadata": {},
   "outputs": [],
   "source": [
    "def isAnagram(firstString, secondString):\n",
    "    if len(firstString) != len(secondString):\n",
    "        return False\n",
    "    \n",
    "    # create list from both the string\n",
    "    firstList = list(firstString)\n",
    "    print(firstList)\n",
    "    \n",
    "    secondList = list(secondString)\n",
    "    print(secondList)\n",
    "    \n",
    "    firstTree = createTree(firstList)\n",
    "    secondTree = createTree(secondList)\n",
    "    \n",
    "    for k in firstTree.keys():\n",
    "        if k in secondTree:\n",
    "            if firstTree[k] == secondTree[k]:\n",
    "                pass;\n",
    "            else:\n",
    "                return False\n",
    "        else:\n",
    "            return False\n",
    "        return True"
   ]
  },
  {
   "cell_type": "code",
   "execution_count": 3,
   "id": "51532c64",
   "metadata": {},
   "outputs": [
    {
     "name": "stdout",
     "output_type": "stream",
     "text": [
      "['a', 'A']\n",
      "['A', 'a']\n"
     ]
    },
    {
     "data": {
      "text/plain": [
       "True"
      ]
     },
     "execution_count": 3,
     "metadata": {},
     "output_type": "execute_result"
    }
   ],
   "source": [
    "isAnagram(\"aA\", \"Aa\")"
   ]
  },
  {
   "cell_type": "code",
   "execution_count": 4,
   "id": "bfd8e674",
   "metadata": {},
   "outputs": [
    {
     "name": "stdout",
     "output_type": "stream",
     "text": [
      "['t', 'h', 'e', ' ', 'e', 'y', 'e', 's']\n",
      "['t', 'h', 'e', 'y', ' ', 's', 'e', 'e']\n"
     ]
    },
    {
     "data": {
      "text/plain": [
       "True"
      ]
     },
     "execution_count": 4,
     "metadata": {},
     "output_type": "execute_result"
    }
   ],
   "source": [
    "isAnagram(\"the eyes\", \"they see\")"
   ]
  },
  {
   "cell_type": "code",
   "execution_count": 5,
   "id": "7737f9d1",
   "metadata": {},
   "outputs": [
    {
     "name": "stdout",
     "output_type": "stream",
     "text": [
      "['t', 'h', 'i', 's']\n",
      "['s', 'h', 'i', 't']\n"
     ]
    },
    {
     "data": {
      "text/plain": [
       "True"
      ]
     },
     "execution_count": 5,
     "metadata": {},
     "output_type": "execute_result"
    }
   ],
   "source": [
    "isAnagram(\"this\", \"shit\")"
   ]
  },
  {
   "cell_type": "code",
   "execution_count": 6,
   "id": "d3d49345",
   "metadata": {},
   "outputs": [
    {
     "name": "stdout",
     "output_type": "stream",
     "text": [
      "['t', 'h', 'o', 's', 'e']\n",
      "['h', 'o', 's', 'e', 'l']\n"
     ]
    },
    {
     "data": {
      "text/plain": [
       "False"
      ]
     },
     "execution_count": 6,
     "metadata": {},
     "output_type": "execute_result"
    }
   ],
   "source": [
    "isAnagram(\"those\", \"hosel\")"
   ]
  },
  {
   "cell_type": "code",
   "execution_count": null,
   "id": "40e489de",
   "metadata": {},
   "outputs": [],
   "source": []
  }
 ],
 "metadata": {
  "kernelspec": {
   "display_name": "Python 3 (ipykernel)",
   "language": "python",
   "name": "python3"
  },
  "language_info": {
   "codemirror_mode": {
    "name": "ipython",
    "version": 3
   },
   "file_extension": ".py",
   "mimetype": "text/x-python",
   "name": "python",
   "nbconvert_exporter": "python",
   "pygments_lexer": "ipython3",
   "version": "3.10.11"
  }
 },
 "nbformat": 4,
 "nbformat_minor": 5
}
