{
 "cells": [
  {
   "cell_type": "markdown",
   "id": "8c2bd476",
   "metadata": {},
   "source": [
    "### Fibonacci"
   ]
  },
  {
   "cell_type": "markdown",
   "id": "1e5bca39",
   "metadata": {},
   "source": [
    "<h4>with recursion"
   ]
  },
  {
   "cell_type": "code",
   "execution_count": 6,
   "id": "8358da72",
   "metadata": {},
   "outputs": [],
   "source": [
    "def fibonacci(num):\n",
    "    if num == 0 or num == 1 or num == 2: # num <=2\n",
    "        return 1\n",
    "    else:\n",
    "        return fibonacci(num-1) + fibonacci(num-2)\n",
    "    \n",
    "def generateFib(num):\n",
    "    for i in range(1, num+1):\n",
    "        print(fibonacci(i))"
   ]
  },
  {
   "cell_type": "code",
   "execution_count": 7,
   "id": "394ab015",
   "metadata": {},
   "outputs": [
    {
     "name": "stdout",
     "output_type": "stream",
     "text": [
      "8\n"
     ]
    }
   ],
   "source": [
    "print(fibonacci(6))"
   ]
  },
  {
   "cell_type": "code",
   "execution_count": 8,
   "id": "6a26b619",
   "metadata": {},
   "outputs": [
    {
     "name": "stdout",
     "output_type": "stream",
     "text": [
      "1\n",
      "1\n",
      "2\n",
      "3\n",
      "5\n",
      "8\n",
      "13\n",
      "21\n",
      "34\n",
      "55\n"
     ]
    }
   ],
   "source": [
    "generateFib(10)"
   ]
  },
  {
   "cell_type": "markdown",
   "id": "5e8c9304",
   "metadata": {},
   "source": [
    "<h4>Without recursion"
   ]
  },
  {
   "cell_type": "code",
   "execution_count": 10,
   "id": "2a7c87be",
   "metadata": {},
   "outputs": [],
   "source": [
    "def fib(num):\n",
    "    pre1 = 0\n",
    "    pre2 = 1\n",
    "    count = 1\n",
    "    while (count <= num):\n",
    "        count = count + 1\n",
    "        if count == 1:\n",
    "            print(1)\n",
    "        elif (count == 2):\n",
    "            print(1)\n",
    "        else:\n",
    "            cur = pre1 + pre2\n",
    "            print(cur)\n",
    "            pre1 = pre2\n",
    "            pre2 = cur"
   ]
  },
  {
   "cell_type": "code",
   "execution_count": 11,
   "id": "3b2d3b2e",
   "metadata": {},
   "outputs": [
    {
     "name": "stdout",
     "output_type": "stream",
     "text": [
      "1\n"
     ]
    }
   ],
   "source": [
    "fib(1)"
   ]
  },
  {
   "cell_type": "code",
   "execution_count": 12,
   "id": "1154f68b",
   "metadata": {},
   "outputs": [
    {
     "name": "stdout",
     "output_type": "stream",
     "text": [
      "1\n",
      "1\n"
     ]
    }
   ],
   "source": [
    "fib(2)"
   ]
  },
  {
   "cell_type": "code",
   "execution_count": 13,
   "id": "de4dd0c1",
   "metadata": {},
   "outputs": [
    {
     "name": "stdout",
     "output_type": "stream",
     "text": [
      "1\n",
      "1\n",
      "2\n"
     ]
    }
   ],
   "source": [
    "fib(3)"
   ]
  },
  {
   "cell_type": "code",
   "execution_count": 14,
   "id": "09e81de5",
   "metadata": {},
   "outputs": [
    {
     "name": "stdout",
     "output_type": "stream",
     "text": [
      "1\n",
      "1\n",
      "2\n",
      "3\n",
      "5\n",
      "8\n",
      "13\n",
      "21\n",
      "34\n",
      "55\n"
     ]
    }
   ],
   "source": [
    "fib(10)"
   ]
  },
  {
   "cell_type": "code",
   "execution_count": null,
   "id": "151d8c66",
   "metadata": {},
   "outputs": [],
   "source": []
  }
 ],
 "metadata": {
  "kernelspec": {
   "display_name": "Python 3 (ipykernel)",
   "language": "python",
   "name": "python3"
  },
  "language_info": {
   "codemirror_mode": {
    "name": "ipython",
    "version": 3
   },
   "file_extension": ".py",
   "mimetype": "text/x-python",
   "name": "python",
   "nbconvert_exporter": "python",
   "pygments_lexer": "ipython3",
   "version": "3.10.11"
  }
 },
 "nbformat": 4,
 "nbformat_minor": 5
}
