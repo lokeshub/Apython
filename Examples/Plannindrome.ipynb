{
 "cells": [
  {
   "cell_type": "markdown",
   "id": "f9801eed",
   "metadata": {},
   "source": [
    "### Plannindrome"
   ]
  },
  {
   "cell_type": "code",
   "execution_count": 1,
   "id": "e4d1bb1b",
   "metadata": {},
   "outputs": [],
   "source": [
    "def isPlanindrome(text):\n",
    "    halfLength = int(len(text)/2)\n",
    "    print(\"Half length \", halfLength)\n",
    "    for i in range(0, halfLength):\n",
    "        print(i, text[i], \" \",text[-(i+1)])\n",
    "        if text[i] != text[-(i+1)]:\n",
    "            return False\n",
    "    return True"
   ]
  },
  {
   "cell_type": "code",
   "execution_count": 2,
   "id": "040b1ba7",
   "metadata": {},
   "outputs": [
    {
     "name": "stdout",
     "output_type": "stream",
     "text": [
      "Half length  1\n",
      "0 m   m\n"
     ]
    },
    {
     "data": {
      "text/plain": [
       "True"
      ]
     },
     "execution_count": 2,
     "metadata": {},
     "output_type": "execute_result"
    }
   ],
   "source": [
    "isPlanindrome(\"mom\")"
   ]
  },
  {
   "cell_type": "code",
   "execution_count": 3,
   "id": "bc0a6d0f",
   "metadata": {},
   "outputs": [
    {
     "name": "stdout",
     "output_type": "stream",
     "text": [
      "Half length  4\n",
      "0 m   m\n",
      "1 a   a\n",
      "2 l   l\n",
      "3 a   a\n"
     ]
    },
    {
     "data": {
      "text/plain": [
       "True"
      ]
     },
     "execution_count": 3,
     "metadata": {},
     "output_type": "execute_result"
    }
   ],
   "source": [
    "isPlanindrome(\"malayalam\")"
   ]
  },
  {
   "cell_type": "code",
   "execution_count": 4,
   "id": "932f45a9",
   "metadata": {},
   "outputs": [
    {
     "name": "stdout",
     "output_type": "stream",
     "text": [
      "Half length  3\n",
      "0 p   n\n"
     ]
    },
    {
     "data": {
      "text/plain": [
       "False"
      ]
     },
     "execution_count": 4,
     "metadata": {},
     "output_type": "execute_result"
    }
   ],
   "source": [
    "isPlanindrome(\"python\")"
   ]
  },
  {
   "cell_type": "code",
   "execution_count": null,
   "id": "59985e76",
   "metadata": {},
   "outputs": [],
   "source": []
  }
 ],
 "metadata": {
  "kernelspec": {
   "display_name": "Python 3 (ipykernel)",
   "language": "python",
   "name": "python3"
  },
  "language_info": {
   "codemirror_mode": {
    "name": "ipython",
    "version": 3
   },
   "file_extension": ".py",
   "mimetype": "text/x-python",
   "name": "python",
   "nbconvert_exporter": "python",
   "pygments_lexer": "ipython3",
   "version": "3.10.11"
  }
 },
 "nbformat": 4,
 "nbformat_minor": 5
}
