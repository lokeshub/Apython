{
 "cells": [
  {
   "cell_type": "markdown",
   "id": "76b7d92a",
   "metadata": {},
   "source": [
    "#### Reverse string"
   ]
  },
  {
   "cell_type": "code",
   "execution_count": 1,
   "id": "8c51441a",
   "metadata": {},
   "outputs": [],
   "source": [
    "def revString(strToRev):\n",
    "    print(strToRev)\n",
    "    resultStr = \"\"\n",
    "    \n",
    "    i = 1\n",
    "    \n",
    "    while(i < len(strToRev) + 1):\n",
    "        print(i, \"Now geting \", strToRev[-i],\"\\n\")\n",
    "        resultStr = resultStr + strToRev[-i]\n",
    "        i = i + 1\n",
    "    return resultStr"
   ]
  },
  {
   "cell_type": "code",
   "execution_count": 2,
   "id": "5d36e8f1",
   "metadata": {},
   "outputs": [
    {
     "name": "stdout",
     "output_type": "stream",
     "text": [
      "lokesh\n",
      "1 Now geting  h \n",
      "\n",
      "2 Now geting  s \n",
      "\n",
      "3 Now geting  e \n",
      "\n",
      "4 Now geting  k \n",
      "\n",
      "5 Now geting  o \n",
      "\n",
      "6 Now geting  l \n",
      "\n",
      "hsekol\n"
     ]
    }
   ],
   "source": [
    "new = revString(\"lokesh\")\n",
    "print(new)"
   ]
  },
  {
   "cell_type": "markdown",
   "id": "0efcf00a",
   "metadata": {},
   "source": [
    "#### Python way"
   ]
  },
  {
   "cell_type": "code",
   "execution_count": 3,
   "id": "3b617a29",
   "metadata": {},
   "outputs": [
    {
     "name": "stdout",
     "output_type": "stream",
     "text": [
      "hsekol\n"
     ]
    }
   ],
   "source": [
    "def reverseStr(text):\n",
    "    return text[::-1]\n",
    "\n",
    "old = reverseStr(\"lokesh\")\n",
    "print(old)"
   ]
  },
  {
   "cell_type": "code",
   "execution_count": 4,
   "id": "957f23dd",
   "metadata": {},
   "outputs": [
    {
     "name": "stdout",
     "output_type": "stream",
     "text": [
      "thrpskl\n"
     ]
    }
   ],
   "source": [
    "# Also if we do -2 then it will skip 1\n",
    "def reverseWithSkip(name):\n",
    "    return name[::-2]\n",
    "\n",
    "reversedStr = reverseWithSkip(\"lokeshpurohit\")\n",
    "print(reversedStr)"
   ]
  },
  {
   "cell_type": "markdown",
   "id": "1f1cb0b2",
   "metadata": {},
   "source": [
    "#### if positive number then skip without reversing"
   ]
  },
  {
   "cell_type": "code",
   "execution_count": 5,
   "id": "34385458",
   "metadata": {},
   "outputs": [
    {
     "name": "stdout",
     "output_type": "stream",
     "text": [
      "lks\n"
     ]
    }
   ],
   "source": [
    "def reverseStr(text):\n",
    "    return text[::2]\n",
    "\n",
    "old = reverseStr(\"lokesh\")\n",
    "print(old)"
   ]
  },
  {
   "cell_type": "markdown",
   "id": "9e5fb172",
   "metadata": {},
   "source": [
    "#### with join and reversed function"
   ]
  },
  {
   "cell_type": "code",
   "execution_count": 11,
   "id": "4842f711",
   "metadata": {},
   "outputs": [],
   "source": [
    "hero = \"spider man\""
   ]
  },
  {
   "cell_type": "code",
   "execution_count": 13,
   "id": "a40ba76c",
   "metadata": {},
   "outputs": [
    {
     "data": {
      "text/plain": [
       "'nam redips'"
      ]
     },
     "execution_count": 13,
     "metadata": {},
     "output_type": "execute_result"
    }
   ],
   "source": [
    "''.join(reversed(hero))"
   ]
  },
  {
   "cell_type": "markdown",
   "id": "178e4cdc",
   "metadata": {},
   "source": [
    "#### with recursion"
   ]
  },
  {
   "cell_type": "code",
   "execution_count": 14,
   "id": "7ee3914d",
   "metadata": {},
   "outputs": [
    {
     "name": "stdout",
     "output_type": "stream",
     "text": [
      "nam nori\n"
     ]
    }
   ],
   "source": [
    "def rev(data):\n",
    "    if len(data)<=1:\n",
    "        return data\n",
    "    \n",
    "    return rev(data[1:]) + data[0]\n",
    "\n",
    "print(rev(\"iron man\"))"
   ]
  },
  {
   "cell_type": "code",
   "execution_count": null,
   "id": "414fe698",
   "metadata": {},
   "outputs": [],
   "source": []
  }
 ],
 "metadata": {
  "kernelspec": {
   "display_name": "Python 3 (ipykernel)",
   "language": "python",
   "name": "python3"
  },
  "language_info": {
   "codemirror_mode": {
    "name": "ipython",
    "version": 3
   },
   "file_extension": ".py",
   "mimetype": "text/x-python",
   "name": "python",
   "nbconvert_exporter": "python",
   "pygments_lexer": "ipython3",
   "version": "3.10.11"
  }
 },
 "nbformat": 4,
 "nbformat_minor": 5
}
