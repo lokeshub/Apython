{
 "cells": [
  {
   "cell_type": "markdown",
   "id": "a49d37cb",
   "metadata": {},
   "source": [
    "#### Reverse word of a sentence"
   ]
  },
  {
   "cell_type": "code",
   "execution_count": 1,
   "id": "977187fe",
   "metadata": {},
   "outputs": [],
   "source": [
    "sentance = \"This is a sentance\""
   ]
  },
  {
   "cell_type": "code",
   "execution_count": 2,
   "id": "bf1e5b1b",
   "metadata": {},
   "outputs": [],
   "source": [
    "arr = sentance.split()"
   ]
  },
  {
   "cell_type": "code",
   "execution_count": 3,
   "id": "90b43357",
   "metadata": {},
   "outputs": [
    {
     "data": {
      "text/plain": [
       "list"
      ]
     },
     "execution_count": 3,
     "metadata": {},
     "output_type": "execute_result"
    }
   ],
   "source": [
    "type(arr)"
   ]
  },
  {
   "cell_type": "code",
   "execution_count": 4,
   "id": "9f9b67ce",
   "metadata": {},
   "outputs": [
    {
     "data": {
      "text/plain": [
       "['This', 'is', 'a', 'sentance']"
      ]
     },
     "execution_count": 4,
     "metadata": {},
     "output_type": "execute_result"
    }
   ],
   "source": [
    "arr"
   ]
  },
  {
   "cell_type": "code",
   "execution_count": 5,
   "id": "11626afa",
   "metadata": {},
   "outputs": [
    {
     "data": {
      "text/plain": [
       "['sihT', 'si', 'a', 'ecnatnes']"
      ]
     },
     "execution_count": 5,
     "metadata": {},
     "output_type": "execute_result"
    }
   ],
   "source": [
    "newArr = []\n",
    "for word in arr:\n",
    "    newArr.append(word[::-1])\n",
    "newArr"
   ]
  },
  {
   "cell_type": "code",
   "execution_count": 6,
   "id": "5b5a64ef",
   "metadata": {},
   "outputs": [],
   "source": [
    "newSentance = \" \".join(newArr)"
   ]
  },
  {
   "cell_type": "code",
   "execution_count": 7,
   "id": "1490745a",
   "metadata": {},
   "outputs": [
    {
     "data": {
      "text/plain": [
       "'sihT si a ecnatnes'"
      ]
     },
     "execution_count": 7,
     "metadata": {},
     "output_type": "execute_result"
    }
   ],
   "source": [
    "newSentance"
   ]
  },
  {
   "cell_type": "code",
   "execution_count": null,
   "id": "69203f5c",
   "metadata": {},
   "outputs": [],
   "source": []
  }
 ],
 "metadata": {
  "kernelspec": {
   "display_name": "Python 3 (ipykernel)",
   "language": "python",
   "name": "python3"
  },
  "language_info": {
   "codemirror_mode": {
    "name": "ipython",
    "version": 3
   },
   "file_extension": ".py",
   "mimetype": "text/x-python",
   "name": "python",
   "nbconvert_exporter": "python",
   "pygments_lexer": "ipython3",
   "version": "3.10.11"
  }
 },
 "nbformat": 4,
 "nbformat_minor": 5
}
