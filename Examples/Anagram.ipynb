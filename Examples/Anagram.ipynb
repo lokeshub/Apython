{
 "cells": [
  {
   "cell_type": "markdown",
   "id": "bb097028",
   "metadata": {},
   "source": [
    "Anagram"
   ]
  },
  {
   "cell_type": "code",
   "execution_count": 1,
   "id": "b0ea1a78",
   "metadata": {},
   "outputs": [],
   "source": [
    "def areAnagrams(str1, str2):\n",
    "    if len(str1) != len(str2):\n",
    "        return False\n",
    "    \n",
    "    strDict1 = {}\n",
    "    for ch in str1:\n",
    "        print(\"char: \", ch)\n",
    "        if ch in strDict1:\n",
    "            strDict1[ch] = strDict1[ch] + 1\n",
    "        else:\n",
    "            strDict1[ch] = 1\n",
    "            \n",
    "    print(strDict1)\n",
    "        \n",
    "    strDict2 = {}\n",
    "    for ch in str2:\n",
    "        print(\"char: \", ch)\n",
    "        if ch in strDict2:\n",
    "            strDict2[ch] = strDict2[ch] + 1\n",
    "        else:\n",
    "            strDict2[ch] = 1\n",
    "            \n",
    "    print(strDict2)\n",
    "    \n",
    "    if strDict1 == strDict2:\n",
    "        return True\n",
    "    \n",
    "    return False"
   ]
  },
  {
   "cell_type": "code",
   "execution_count": 2,
   "id": "8bdf884b",
   "metadata": {},
   "outputs": [
    {
     "name": "stdout",
     "output_type": "stream",
     "text": [
      "char:  a\n",
      "char:   \n",
      "char:  g\n",
      "char:  e\n",
      "char:  n\n",
      "char:  t\n",
      "char:  l\n",
      "char:  e\n",
      "char:  m\n",
      "char:  a\n",
      "char:  n\n",
      "{'a': 2, ' ': 1, 'g': 1, 'e': 2, 'n': 2, 't': 1, 'l': 1, 'm': 1}\n",
      "char:  e\n",
      "char:  l\n",
      "char:  e\n",
      "char:  g\n",
      "char:  a\n",
      "char:  n\n",
      "char:  t\n",
      "char:   \n",
      "char:  m\n",
      "char:  a\n",
      "char:  n\n",
      "{'e': 2, 'l': 1, 'g': 1, 'a': 2, 'n': 2, 't': 1, ' ': 1, 'm': 1}\n",
      "True\n"
     ]
    }
   ],
   "source": [
    "print(areAnagrams(\"a gentleman\", \"elegant man\"))"
   ]
  },
  {
   "cell_type": "code",
   "execution_count": 3,
   "id": "4a5ffa0d",
   "metadata": {},
   "outputs": [
    {
     "name": "stdout",
     "output_type": "stream",
     "text": [
      "char:  T\n",
      "char:  h\n",
      "char:  e\n",
      "char:   \n",
      "char:  e\n",
      "char:  y\n",
      "char:  e\n",
      "char:  s\n",
      "{'T': 1, 'h': 1, 'e': 3, ' ': 1, 'y': 1, 's': 1}\n",
      "char:  t\n",
      "char:  h\n",
      "char:  e\n",
      "char:  y\n",
      "char:   \n",
      "char:  s\n",
      "char:  e\n",
      "char:  e\n",
      "{'t': 1, 'h': 1, 'e': 3, 'y': 1, ' ': 1, 's': 1}\n",
      "False\n"
     ]
    }
   ],
   "source": [
    "print(areAnagrams(\"The eyes\", \"they see\"))"
   ]
  },
  {
   "cell_type": "code",
   "execution_count": null,
   "id": "56b88eff",
   "metadata": {},
   "outputs": [],
   "source": []
  }
 ],
 "metadata": {
  "kernelspec": {
   "display_name": "Python 3 (ipykernel)",
   "language": "python",
   "name": "python3"
  },
  "language_info": {
   "codemirror_mode": {
    "name": "ipython",
    "version": 3
   },
   "file_extension": ".py",
   "mimetype": "text/x-python",
   "name": "python",
   "nbconvert_exporter": "python",
   "pygments_lexer": "ipython3",
   "version": "3.10.11"
  }
 },
 "nbformat": 4,
 "nbformat_minor": 5
}
