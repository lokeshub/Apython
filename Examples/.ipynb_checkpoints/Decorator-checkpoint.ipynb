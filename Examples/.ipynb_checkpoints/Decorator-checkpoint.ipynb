{
 "cells": [
  {
   "cell_type": "markdown",
   "id": "828e6025",
   "metadata": {},
   "source": [
    "Decorator"
   ]
  },
  {
   "cell_type": "code",
   "execution_count": 1,
   "id": "6b80104b",
   "metadata": {},
   "outputs": [
    {
     "name": "stdout",
     "output_type": "stream",
     "text": [
      "do pushup\n",
      "do pullups\n"
     ]
    }
   ],
   "source": [
    "def doSomeExercise():\n",
    "    print(\"do pushup\")\n",
    "    print(\"do pullups\")\n",
    "    \n",
    "doSomeExercise()"
   ]
  },
  {
   "cell_type": "code",
   "execution_count": 3,
   "id": "48e81958",
   "metadata": {},
   "outputs": [],
   "source": [
    "def betterWay(doSomeExercise):\n",
    "    def wrapper():\n",
    "        print(\"Do warmup\")\n",
    "        doSomeExercise()\n",
    "        print(\"Cooldown and relax\")\n",
    "    return wrapper"
   ]
  },
  {
   "cell_type": "code",
   "execution_count": 5,
   "id": "0654b2b4",
   "metadata": {},
   "outputs": [],
   "source": [
    "@betterWay\n",
    "def exercise():\n",
    "    print(\"run\")\n",
    "    print(\"pushups\")\n",
    "    print(\"meditate\")"
   ]
  },
  {
   "cell_type": "code",
   "execution_count": 6,
   "id": "481fca62",
   "metadata": {},
   "outputs": [
    {
     "name": "stdout",
     "output_type": "stream",
     "text": [
      "Do warmup\n",
      "run\n",
      "pushups\n",
      "meditate\n",
      "Cooldown and relax\n"
     ]
    }
   ],
   "source": [
    "exercise()"
   ]
  },
  {
   "cell_type": "code",
   "execution_count": null,
   "id": "9b95b2cf",
   "metadata": {},
   "outputs": [],
   "source": []
  }
 ],
 "metadata": {
  "kernelspec": {
   "display_name": "Python 3 (ipykernel)",
   "language": "python",
   "name": "python3"
  },
  "language_info": {
   "codemirror_mode": {
    "name": "ipython",
    "version": 3
   },
   "file_extension": ".py",
   "mimetype": "text/x-python",
   "name": "python",
   "nbconvert_exporter": "python",
   "pygments_lexer": "ipython3",
   "version": "3.10.11"
  }
 },
 "nbformat": 4,
 "nbformat_minor": 5
}
