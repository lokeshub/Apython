{
 "cells": [
  {
   "cell_type": "markdown",
   "id": "e36089af",
   "metadata": {},
   "source": [
    "#### Higher order functions"
   ]
  },
  {
   "cell_type": "code",
   "execution_count": 1,
   "id": "72844520",
   "metadata": {},
   "outputs": [],
   "source": [
    "foo = [2, 18,22, 17, 24, 8, 12, 27]"
   ]
  },
  {
   "cell_type": "markdown",
   "id": "4969ec2f",
   "metadata": {},
   "source": [
    "#### Filter (gives a shorter list for which condition holds true)"
   ]
  },
  {
   "cell_type": "code",
   "execution_count": 4,
   "id": "28b60c44",
   "metadata": {},
   "outputs": [
    {
     "data": {
      "text/plain": [
       "[18, 24, 12, 27]"
      ]
     },
     "execution_count": 4,
     "metadata": {},
     "output_type": "execute_result"
    }
   ],
   "source": [
    "multipleOf3 = list(filter(lambda x:x%3 == 0, foo))\n",
    "multipleOf3"
   ]
  },
  {
   "cell_type": "markdown",
   "id": "89c67bbd",
   "metadata": {},
   "source": [
    "##### map (executes an operation on each element and returns list thereafter"
   ]
  },
  {
   "cell_type": "code",
   "execution_count": 8,
   "id": "daad8478",
   "metadata": {},
   "outputs": [
    {
     "data": {
      "text/plain": [
       "[4, 36, 44, 34, 48, 16, 24, 54]"
      ]
     },
     "execution_count": 8,
     "metadata": {},
     "output_type": "execute_result"
    }
   ],
   "source": [
    "twice = list(map(lambda x:2*x , foo))\n",
    "twice"
   ]
  },
  {
   "cell_type": "markdown",
   "id": "0fd5ff0d",
   "metadata": {},
   "source": [
    "##### reduce applies a given function to all the elements of an iterable (like a list or a string) and reduces it to a single cumulative value."
   ]
  },
  {
   "cell_type": "markdown",
   "id": "01bb8bba",
   "metadata": {},
   "source": [
    "*** Now moved to functools library"
   ]
  },
  {
   "cell_type": "code",
   "execution_count": 9,
   "id": "f321c2f9",
   "metadata": {},
   "outputs": [
    {
     "data": {
      "text/plain": [
       "130"
      ]
     },
     "execution_count": 9,
     "metadata": {},
     "output_type": "execute_result"
    }
   ],
   "source": [
    "from functools import reduce\n",
    "totalSum = reduce(lambda x,y: x+y,foo)\n",
    "totalSum"
   ]
  },
  {
   "cell_type": "code",
   "execution_count": null,
   "id": "c51edab7",
   "metadata": {},
   "outputs": [],
   "source": []
  }
 ],
 "metadata": {
  "kernelspec": {
   "display_name": "Python 3 (ipykernel)",
   "language": "python",
   "name": "python3"
  },
  "language_info": {
   "codemirror_mode": {
    "name": "ipython",
    "version": 3
   },
   "file_extension": ".py",
   "mimetype": "text/x-python",
   "name": "python",
   "nbconvert_exporter": "python",
   "pygments_lexer": "ipython3",
   "version": "3.10.11"
  }
 },
 "nbformat": 4,
 "nbformat_minor": 5
}
