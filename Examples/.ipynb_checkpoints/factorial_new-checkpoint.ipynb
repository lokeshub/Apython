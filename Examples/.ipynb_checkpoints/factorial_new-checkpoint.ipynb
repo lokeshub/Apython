{
 "cells": [
  {
   "cell_type": "markdown",
   "id": "e62a00b0",
   "metadata": {},
   "source": [
    "Factorial new ways"
   ]
  },
  {
   "cell_type": "code",
   "execution_count": 1,
   "id": "ce89ef1f",
   "metadata": {},
   "outputs": [],
   "source": [
    "def fact(num):\n",
    "    prod = 1\n",
    "    for i in range(1, num+1):\n",
    "        prod = prod * i\n",
    "    return prod"
   ]
  },
  {
   "cell_type": "code",
   "execution_count": 3,
   "id": "2bf9781d",
   "metadata": {},
   "outputs": [
    {
     "name": "stdout",
     "output_type": "stream",
     "text": [
      "120\n"
     ]
    }
   ],
   "source": [
    "print(fact(5))"
   ]
  },
  {
   "cell_type": "code",
   "execution_count": 4,
   "id": "d49de23e",
   "metadata": {},
   "outputs": [],
   "source": [
    "def rec_fact(n):\n",
    "    if n <= 1:\n",
    "        return 1\n",
    "    else:\n",
    "        return (n * rec_fact(n-1))"
   ]
  },
  {
   "cell_type": "code",
   "execution_count": 5,
   "id": "ae1abce6",
   "metadata": {},
   "outputs": [
    {
     "name": "stdout",
     "output_type": "stream",
     "text": [
      "720\n"
     ]
    }
   ],
   "source": [
    "print(rec_fact(6))"
   ]
  },
  {
   "cell_type": "code",
   "execution_count": null,
   "id": "45a8e285",
   "metadata": {},
   "outputs": [],
   "source": []
  }
 ],
 "metadata": {
  "kernelspec": {
   "display_name": "Python 3 (ipykernel)",
   "language": "python",
   "name": "python3"
  },
  "language_info": {
   "codemirror_mode": {
    "name": "ipython",
    "version": 3
   },
   "file_extension": ".py",
   "mimetype": "text/x-python",
   "name": "python",
   "nbconvert_exporter": "python",
   "pygments_lexer": "ipython3",
   "version": "3.10.11"
  }
 },
 "nbformat": 4,
 "nbformat_minor": 5
}
