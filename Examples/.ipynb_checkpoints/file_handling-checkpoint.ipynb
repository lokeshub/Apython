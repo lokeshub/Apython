{
 "cells": [
  {
   "cell_type": "markdown",
   "id": "50c71b24",
   "metadata": {},
   "source": [
    "#### File Handling"
   ]
  },
  {
   "cell_type": "code",
   "execution_count": 1,
   "id": "0d6ce2a7",
   "metadata": {},
   "outputs": [],
   "source": [
    "import os\n",
    "fh = open('Testfile.txt') # OR 'c:\\\\Users\\\\<path\\\\Testfile.txt'"
   ]
  },
  {
   "cell_type": "code",
   "execution_count": 2,
   "id": "48116827",
   "metadata": {},
   "outputs": [],
   "source": [
    "content = fh.readlines()"
   ]
  },
  {
   "cell_type": "code",
   "execution_count": 3,
   "id": "51610a99",
   "metadata": {},
   "outputs": [
    {
     "data": {
      "text/plain": [
       "['this is the text file\\n',\n",
       " 'to read\\n',\n",
       " 'this line has error\\n',\n",
       " 'this does not\\n',\n",
       " 'this again has error\\n',\n",
       " 'this has just err\\n',\n",
       " 'this has Error again']"
      ]
     },
     "execution_count": 3,
     "metadata": {},
     "output_type": "execute_result"
    }
   ],
   "source": [
    "content"
   ]
  },
  {
   "cell_type": "code",
   "execution_count": 4,
   "id": "3fa73505",
   "metadata": {},
   "outputs": [
    {
     "data": {
      "text/plain": [
       "list"
      ]
     },
     "execution_count": 4,
     "metadata": {},
     "output_type": "execute_result"
    }
   ],
   "source": [
    "type(content)"
   ]
  },
  {
   "cell_type": "code",
   "execution_count": 5,
   "id": "281a814c",
   "metadata": {},
   "outputs": [
    {
     "name": "stdout",
     "output_type": "stream",
     "text": [
      "this line has error\n",
      "\n",
      "this again has error\n",
      "\n",
      "this has Error again\n"
     ]
    }
   ],
   "source": [
    "for line in content:\n",
    "    if \"error\" in line or \"Error\" in line:\n",
    "        print(line)"
   ]
  },
  {
   "cell_type": "markdown",
   "id": "aa49125d",
   "metadata": {},
   "source": [
    "#### Better way"
   ]
  },
  {
   "cell_type": "code",
   "execution_count": 6,
   "id": "44bfd685",
   "metadata": {},
   "outputs": [
    {
     "name": "stdout",
     "output_type": "stream",
     "text": [
      "Could not open file\n"
     ]
    }
   ],
   "source": [
    "#This will not work\n",
    "try:\n",
    "    with open(\"Dummyfile.txt\", \"r\") as data1:\n",
    "        record1 = data1.read()\n",
    "except:\n",
    "    print(\"Could not open file\")"
   ]
  },
  {
   "cell_type": "code",
   "execution_count": 7,
   "id": "9a325dd8",
   "metadata": {},
   "outputs": [],
   "source": [
    "try:\n",
    "    with open(\"Testfile.txt\", \"r\") as data:\n",
    "        record = data.read()\n",
    "except:\n",
    "    print(\"Could not open file\")"
   ]
  },
  {
   "cell_type": "code",
   "execution_count": 8,
   "id": "5433620b",
   "metadata": {},
   "outputs": [
    {
     "data": {
      "text/plain": [
       "'this is the text file\\nto read\\nthis line has error\\nthis does not\\nthis again has error\\nthis has just err\\nthis has Error again'"
      ]
     },
     "execution_count": 8,
     "metadata": {},
     "output_type": "execute_result"
    }
   ],
   "source": [
    "record"
   ]
  },
  {
   "cell_type": "code",
   "execution_count": 9,
   "id": "21cbe411",
   "metadata": {},
   "outputs": [
    {
     "data": {
      "text/plain": [
       "str"
      ]
     },
     "execution_count": 9,
     "metadata": {},
     "output_type": "execute_result"
    }
   ],
   "source": [
    "type(record)"
   ]
  },
  {
   "cell_type": "code",
   "execution_count": 10,
   "id": "40046aae",
   "metadata": {},
   "outputs": [],
   "source": [
    "try:\n",
    "    with open(\"Testfile.txt\", \"r\") as txt:\n",
    "        for line in txt:\n",
    "            newline = txt.readlines()\n",
    "except:\n",
    "    print(\"Could not read\")"
   ]
  },
  {
   "cell_type": "code",
   "execution_count": 11,
   "id": "ba048196",
   "metadata": {},
   "outputs": [
    {
     "data": {
      "text/plain": [
       "['to read\\n',\n",
       " 'this line has error\\n',\n",
       " 'this does not\\n',\n",
       " 'this again has error\\n',\n",
       " 'this has just err\\n',\n",
       " 'this has Error again']"
      ]
     },
     "execution_count": 11,
     "metadata": {},
     "output_type": "execute_result"
    }
   ],
   "source": [
    "newline"
   ]
  },
  {
   "cell_type": "code",
   "execution_count": 12,
   "id": "c9eb5c7c",
   "metadata": {},
   "outputs": [
    {
     "data": {
      "text/plain": [
       "list"
      ]
     },
     "execution_count": 12,
     "metadata": {},
     "output_type": "execute_result"
    }
   ],
   "source": [
    "type(newline)"
   ]
  },
  {
   "cell_type": "code",
   "execution_count": null,
   "id": "665fc10d",
   "metadata": {},
   "outputs": [],
   "source": []
  }
 ],
 "metadata": {
  "kernelspec": {
   "display_name": "Python 3 (ipykernel)",
   "language": "python",
   "name": "python3"
  },
  "language_info": {
   "codemirror_mode": {
    "name": "ipython",
    "version": 3
   },
   "file_extension": ".py",
   "mimetype": "text/x-python",
   "name": "python",
   "nbconvert_exporter": "python",
   "pygments_lexer": "ipython3",
   "version": "3.10.11"
  }
 },
 "nbformat": 4,
 "nbformat_minor": 5
}
