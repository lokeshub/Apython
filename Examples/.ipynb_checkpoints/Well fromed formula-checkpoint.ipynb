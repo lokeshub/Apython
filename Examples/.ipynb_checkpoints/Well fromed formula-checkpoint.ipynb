{
 "cells": [
  {
   "cell_type": "markdown",
   "id": "3d1be3f3",
   "metadata": {},
   "source": [
    "<h3> <span style=\"color: red;\">Well formed formula</span> </h3>\n",
    "\n",
    "<h5>\n",
    "    { ( ) } returns True\n",
    "</h5>\n",
    "<h5>\n",
    "    { ( } ) returns False\n",
    "</h5>"
   ]
  },
  {
   "cell_type": "code",
   "execution_count": 22,
   "id": "b7ed01fd",
   "metadata": {},
   "outputs": [],
   "source": [
    "#openToClose = {\n",
    "#    \"{\" : \"}\",\n",
    "#    \"(\" : \")\",\n",
    "#    \"[\" : \"]\"\n",
    "#}\n",
    "\n",
    "closeToOpen = {\n",
    "    \"}\" : \"{\",\n",
    "    \")\" : \"(\",\n",
    "    \"]\" : \"[\"\n",
    "}\n",
    "\n",
    "charStack = []\n",
    "\n",
    "def isWff(inputString):\n",
    "    for ch in inputString:\n",
    "        print(\"Current char: \", ch)\n",
    "        if ch in openToClose.keys():  # ( { or [\n",
    "            charStack.append(ch)\n",
    "        elif ch in closeToOpen.keys():  # ) } or ]\n",
    "            #print(\"Try matching \", ch, \" with \", openToClose[closeToOpen[ch]])\n",
    "            #if ch == openToClose[closeToOpen[ch]]:\n",
    "            \n",
    "            # Above is wrong, we need to match with top of stack\n",
    "            \n",
    "            print(\"Match the opening key of \",ch,\"with top of stack\",charStack[-1])\n",
    "            if closeToOpen[ch] == charStack[-1]:\n",
    "                print(\"Popped \", charStack[-1])\n",
    "                charStack.pop()\n",
    "            else:\n",
    "                return False\n",
    "        else:\n",
    "            print (\"Some other character\")\n",
    "            \n",
    "        print(\"Stack Now: \", charStack)\n",
    "        \n",
    "    if (len(charStack) == 0):\n",
    "        return True\n",
    "    else:\n",
    "        return False"
   ]
  },
  {
   "cell_type": "code",
   "execution_count": 23,
   "id": "f5301ac7",
   "metadata": {},
   "outputs": [
    {
     "data": {
      "text/plain": [
       "True"
      ]
     },
     "execution_count": 23,
     "metadata": {},
     "output_type": "execute_result"
    }
   ],
   "source": [
    "isWff(\"\")"
   ]
  },
  {
   "cell_type": "code",
   "execution_count": 24,
   "id": "fcc8654b",
   "metadata": {},
   "outputs": [
    {
     "name": "stdout",
     "output_type": "stream",
     "text": [
      "Current char:  (\n",
      "Stack Now:  ['(']\n",
      "Current char:  )\n",
      "Match the opening key of  ) with top of stack (\n",
      "Popped  (\n",
      "Stack Now:  []\n"
     ]
    },
    {
     "data": {
      "text/plain": [
       "True"
      ]
     },
     "execution_count": 24,
     "metadata": {},
     "output_type": "execute_result"
    }
   ],
   "source": [
    "isWff(\"()\")"
   ]
  },
  {
   "cell_type": "code",
   "execution_count": 25,
   "id": "0bc83ea1",
   "metadata": {},
   "outputs": [
    {
     "name": "stdout",
     "output_type": "stream",
     "text": [
      "Current char:  (\n",
      "Stack Now:  ['(']\n",
      "Current char:  {\n",
      "Stack Now:  ['(', '{']\n",
      "Current char:  }\n",
      "Match the opening key of  } with top of stack {\n",
      "Popped  {\n",
      "Stack Now:  ['(']\n",
      "Current char:  )\n",
      "Match the opening key of  ) with top of stack (\n",
      "Popped  (\n",
      "Stack Now:  []\n"
     ]
    },
    {
     "data": {
      "text/plain": [
       "True"
      ]
     },
     "execution_count": 25,
     "metadata": {},
     "output_type": "execute_result"
    }
   ],
   "source": [
    "isWff(\"({})\")"
   ]
  },
  {
   "cell_type": "code",
   "execution_count": 26,
   "id": "13cd72d3",
   "metadata": {},
   "outputs": [
    {
     "name": "stdout",
     "output_type": "stream",
     "text": [
      "Current char:  (\n",
      "Stack Now:  ['(']\n",
      "Current char:  {\n",
      "Stack Now:  ['(', '{']\n",
      "Current char:  )\n",
      "Match the opening key of  ) with top of stack {\n"
     ]
    },
    {
     "data": {
      "text/plain": [
       "False"
      ]
     },
     "execution_count": 26,
     "metadata": {},
     "output_type": "execute_result"
    }
   ],
   "source": [
    "isWff(\"({)}\")"
   ]
  },
  {
   "cell_type": "code",
   "execution_count": null,
   "id": "0827fa2c",
   "metadata": {},
   "outputs": [],
   "source": []
  },
  {
   "cell_type": "code",
   "execution_count": null,
   "id": "06fa5ac0",
   "metadata": {},
   "outputs": [],
   "source": []
  }
 ],
 "metadata": {
  "kernelspec": {
   "display_name": "Python 3 (ipykernel)",
   "language": "python",
   "name": "python3"
  },
  "language_info": {
   "codemirror_mode": {
    "name": "ipython",
    "version": 3
   },
   "file_extension": ".py",
   "mimetype": "text/x-python",
   "name": "python",
   "nbconvert_exporter": "python",
   "pygments_lexer": "ipython3",
   "version": "3.10.11"
  }
 },
 "nbformat": 4,
 "nbformat_minor": 5
}
