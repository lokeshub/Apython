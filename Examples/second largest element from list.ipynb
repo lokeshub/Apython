{
 "cells": [
  {
   "cell_type": "markdown",
   "id": "aae6b01c",
   "metadata": {},
   "source": [
    "#### second largest number in the list"
   ]
  },
  {
   "cell_type": "markdown",
   "id": "9cf9a97f",
   "metadata": {},
   "source": [
    "#### firt creates a sublist that has all the numbers that are smaller than largest and then get max out of that sublist.\n",
    "##### using list comprehension"
   ]
  },
  {
   "cell_type": "code",
   "execution_count": 3,
   "id": "ab3c0124",
   "metadata": {},
   "outputs": [],
   "source": [
    "def secondMax(arr):\n",
    "    sublist = [x for x in arr if x < max(arr)]\n",
    "    return max(sublist)"
   ]
  },
  {
   "cell_type": "code",
   "execution_count": 4,
   "id": "19715e4e",
   "metadata": {},
   "outputs": [
    {
     "data": {
      "text/plain": [
       "5"
      ]
     },
     "execution_count": 4,
     "metadata": {},
     "output_type": "execute_result"
    }
   ],
   "source": [
    "secondMax([1,2,4,9,5,3]) #5"
   ]
  },
  {
   "cell_type": "markdown",
   "id": "fd18df85",
   "metadata": {},
   "source": [
    "sort the list. Creates a new array"
   ]
  },
  {
   "cell_type": "code",
   "execution_count": 5,
   "id": "ee37217d",
   "metadata": {},
   "outputs": [],
   "source": [
    "def secondLargest(arr):\n",
    "    newList = sorted(arr)\n",
    "    return newList[-2]"
   ]
  },
  {
   "cell_type": "code",
   "execution_count": 7,
   "id": "54ea4808",
   "metadata": {},
   "outputs": [
    {
     "data": {
      "text/plain": [
       "20"
      ]
     },
     "execution_count": 7,
     "metadata": {},
     "output_type": "execute_result"
    }
   ],
   "source": [
    "secondLargest([10,2,4,6,17,20,15,33]) #20"
   ]
  },
  {
   "cell_type": "markdown",
   "id": "3401b9ca",
   "metadata": {},
   "source": [
    "With sort it does the sorting inline. so no need to get result to another list"
   ]
  },
  {
   "cell_type": "code",
   "execution_count": 8,
   "id": "39a2583a",
   "metadata": {},
   "outputs": [],
   "source": [
    "def secMax(arr):\n",
    "    arr.sort()\n",
    "    return arr[-2]"
   ]
  },
  {
   "cell_type": "code",
   "execution_count": 10,
   "id": "58b41be8",
   "metadata": {},
   "outputs": [
    {
     "data": {
      "text/plain": [
       "90"
      ]
     },
     "execution_count": 10,
     "metadata": {},
     "output_type": "execute_result"
    }
   ],
   "source": [
    "secMax([20, 30, 60, 90, 80, 100]) #90"
   ]
  },
  {
   "cell_type": "code",
   "execution_count": null,
   "id": "bb3aa442",
   "metadata": {},
   "outputs": [],
   "source": []
  }
 ],
 "metadata": {
  "kernelspec": {
   "display_name": "Python 3 (ipykernel)",
   "language": "python",
   "name": "python3"
  },
  "language_info": {
   "codemirror_mode": {
    "name": "ipython",
    "version": 3
   },
   "file_extension": ".py",
   "mimetype": "text/x-python",
   "name": "python",
   "nbconvert_exporter": "python",
   "pygments_lexer": "ipython3",
   "version": "3.10.11"
  }
 },
 "nbformat": 4,
 "nbformat_minor": 5
}
