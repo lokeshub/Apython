{
 "cells": [
  {
   "cell_type": "markdown",
   "id": "86913772",
   "metadata": {},
   "source": [
    "### Code to check if given number is prime"
   ]
  },
  {
   "cell_type": "code",
   "execution_count": 1,
   "id": "5a58172a",
   "metadata": {},
   "outputs": [],
   "source": [
    "import math"
   ]
  },
  {
   "cell_type": "code",
   "execution_count": 3,
   "id": "79e730ff",
   "metadata": {},
   "outputs": [],
   "source": [
    "def isPrime(num):\n",
    "    factor = 2\n",
    "    while factor < num:\n",
    "        quotient = num / factor\n",
    "        if quotient == int(quotient):\n",
    "            return False\n",
    "        factor = factor + 1\n",
    "    return True\n",
    "\n",
    "def isPrimeBetter(num):\n",
    "    factor = 2\n",
    "    while factor < num:\n",
    "        if num % factor == 0:\n",
    "            return False\n",
    "        factor += 1\n",
    "    return True\n",
    "\n",
    "def isPrimeBest(num):\n",
    "    sqRoot = math.sqrt(num)\n",
    "    factor = 2\n",
    "    while factor <= sqRoot:\n",
    "        if num % factor == 0:\n",
    "            return False\n",
    "        factor = factor + 1\n",
    "    return True"
   ]
  },
  {
   "cell_type": "code",
   "execution_count": 4,
   "id": "538335a7",
   "metadata": {},
   "outputs": [
    {
     "name": "stdout",
     "output_type": "stream",
     "text": [
      "True\n"
     ]
    }
   ],
   "source": [
    "print(isPrime(13))"
   ]
  },
  {
   "cell_type": "code",
   "execution_count": 6,
   "id": "cb62b9c3",
   "metadata": {},
   "outputs": [
    {
     "name": "stdout",
     "output_type": "stream",
     "text": [
      "False\n"
     ]
    }
   ],
   "source": [
    "print(isPrime(10))"
   ]
  },
  {
   "cell_type": "code",
   "execution_count": null,
   "id": "061d11a3",
   "metadata": {},
   "outputs": [],
   "source": []
  }
 ],
 "metadata": {
  "kernelspec": {
   "display_name": "Python 3 (ipykernel)",
   "language": "python",
   "name": "python3"
  },
  "language_info": {
   "codemirror_mode": {
    "name": "ipython",
    "version": 3
   },
   "file_extension": ".py",
   "mimetype": "text/x-python",
   "name": "python",
   "nbconvert_exporter": "python",
   "pygments_lexer": "ipython3",
   "version": "3.10.11"
  }
 },
 "nbformat": 4,
 "nbformat_minor": 5
}
