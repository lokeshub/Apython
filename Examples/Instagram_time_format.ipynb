{
 "cells": [
  {
   "cell_type": "markdown",
   "id": "3b44bcd4",
   "metadata": {},
   "source": [
    "### program to display time in instagram format\n",
    "#### seconds ago OR minutes ago OR days ago"
   ]
  },
  {
   "cell_type": "code",
   "execution_count": 1,
   "id": "cf0db4f3",
   "metadata": {},
   "outputs": [],
   "source": [
    "seconds = 4566785"
   ]
  },
  {
   "cell_type": "code",
   "execution_count": 4,
   "id": "5bcc637c",
   "metadata": {},
   "outputs": [],
   "source": [
    "oneMin = 60\n",
    "oneHour = oneMin * 60\n",
    "oneDay = oneHour * 24\n",
    "oneMonth = oneDay * 30\n",
    "oneYear = oneMonth * 12"
   ]
  },
  {
   "cell_type": "code",
   "execution_count": 7,
   "id": "6f518a1d",
   "metadata": {},
   "outputs": [],
   "source": [
    "resultY = seconds/oneYear"
   ]
  },
  {
   "cell_type": "code",
   "execution_count": 8,
   "id": "0e5fa60d",
   "metadata": {},
   "outputs": [],
   "source": [
    "if resultY > 1:\n",
    "    years = int(resultY)\n",
    "    print (years, \" years ago\")"
   ]
  },
  {
   "cell_type": "code",
   "execution_count": 9,
   "id": "2620ab6f",
   "metadata": {},
   "outputs": [
    {
     "name": "stdout",
     "output_type": "stream",
     "text": [
      "1  months ago\n"
     ]
    }
   ],
   "source": [
    "resultM = seconds / oneMonth\n",
    "if resultM > 1:\n",
    "    months = int(resultM)\n",
    "    print(months, \" months ago\")"
   ]
  },
  {
   "cell_type": "code",
   "execution_count": null,
   "id": "4747e9c3",
   "metadata": {},
   "outputs": [],
   "source": []
  }
 ],
 "metadata": {
  "kernelspec": {
   "display_name": "Python 3 (ipykernel)",
   "language": "python",
   "name": "python3"
  },
  "language_info": {
   "codemirror_mode": {
    "name": "ipython",
    "version": 3
   },
   "file_extension": ".py",
   "mimetype": "text/x-python",
   "name": "python",
   "nbconvert_exporter": "python",
   "pygments_lexer": "ipython3",
   "version": "3.10.11"
  }
 },
 "nbformat": 4,
 "nbformat_minor": 5
}
