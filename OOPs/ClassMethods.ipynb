{
 "cells": [
  {
   "cell_type": "markdown",
   "id": "6c4233e6",
   "metadata": {},
   "source": [
    "### A class Employee\n",
    "    with two class variables: num_of_employee, raise_amount\n",
    "    a constructor (__init__)\n",
    "    a function fullname,that returns fullnamme (firstname + lastname)\n",
    "    a function apply_raise, that changes pay variable according to raise amount\n",
    "    a classmethod that changes class variable raise_amount's value\n",
    "    "
   ]
  },
  {
   "cell_type": "markdown",
   "id": "3a479746",
   "metadata": {},
   "source": [
    "#### Class declaration"
   ]
  },
  {
   "cell_type": "code",
   "execution_count": 1,
   "id": "0a3dfe03",
   "metadata": {},
   "outputs": [],
   "source": [
    "class Employee:\n",
    "    num_of_employee = 0\n",
    "    raise_amount = 1.04\n",
    "    \n",
    "    def __init__(self, fname, lname, pay):\n",
    "        self.fname = fname\n",
    "        self.lname = lname\n",
    "        self.pay = pay\n",
    "        self.email = \"\".join((fname, \".\", lname, \"@company.com\"))\n",
    "        Employee.num_of_employee += 1\n",
    "        \n",
    "    def fullName(self):\n",
    "        full = \" \".join((self.fname, self.lname))\n",
    "        return full\n",
    "\n",
    "    def applyRaise(self):\n",
    "        self.pay = self.pay * self.raise_amount\n",
    "        \n",
    "    # classmethod to change class variable    \n",
    "    @classmethod\n",
    "    def setRaiseAmount(cls, amount):\n",
    "        cls.raise_amount = amount\n",
    "        \n",
    "    # create an employee using string, calling cls after getting values\n",
    "    # very unusual errors if we reomve @classmehod keyword from here\n",
    "    @classmethod\n",
    "    def fromString(cls, empStr):\n",
    "        first, last, pay = empStr.split('-')\n",
    "        return cls(first, last, pay)"
   ]
  },
  {
   "cell_type": "code",
   "execution_count": 2,
   "id": "ee1b957e",
   "metadata": {},
   "outputs": [],
   "source": [
    "emp1 = Employee(\"Manoj\", \"Kumar\", 100000)"
   ]
  },
  {
   "cell_type": "code",
   "execution_count": 3,
   "id": "598d6388",
   "metadata": {},
   "outputs": [
    {
     "data": {
      "text/plain": [
       "100000"
      ]
     },
     "execution_count": 3,
     "metadata": {},
     "output_type": "execute_result"
    }
   ],
   "source": [
    "emp1.pay"
   ]
  },
  {
   "cell_type": "code",
   "execution_count": 4,
   "id": "5ffa8c8e",
   "metadata": {},
   "outputs": [],
   "source": [
    "emp1.applyRaise()"
   ]
  },
  {
   "cell_type": "code",
   "execution_count": 5,
   "id": "f54a5de4",
   "metadata": {},
   "outputs": [
    {
     "data": {
      "text/plain": [
       "104000.0"
      ]
     },
     "execution_count": 5,
     "metadata": {},
     "output_type": "execute_result"
    }
   ],
   "source": [
    "emp1.pay"
   ]
  },
  {
   "cell_type": "code",
   "execution_count": 6,
   "id": "b0126d04",
   "metadata": {},
   "outputs": [
    {
     "data": {
      "text/plain": [
       "'Manoj Kumar'"
      ]
     },
     "execution_count": 6,
     "metadata": {},
     "output_type": "execute_result"
    }
   ],
   "source": [
    "emp1.fullName()"
   ]
  },
  {
   "cell_type": "code",
   "execution_count": 7,
   "id": "7fbd7874",
   "metadata": {},
   "outputs": [
    {
     "data": {
      "text/plain": [
       "<__main__.Employee at 0x27a0bcd53f0>"
      ]
     },
     "execution_count": 7,
     "metadata": {},
     "output_type": "execute_result"
    }
   ],
   "source": [
    "emp1"
   ]
  },
  {
   "cell_type": "code",
   "execution_count": 8,
   "id": "6cd2a422",
   "metadata": {},
   "outputs": [
    {
     "data": {
      "text/plain": [
       "__main__.Employee"
      ]
     },
     "execution_count": 8,
     "metadata": {},
     "output_type": "execute_result"
    }
   ],
   "source": [
    "type(emp1)"
   ]
  },
  {
   "cell_type": "code",
   "execution_count": 9,
   "id": "0fb0d624",
   "metadata": {},
   "outputs": [],
   "source": [
    "emp1.setRaiseAmount(1.05)"
   ]
  },
  {
   "cell_type": "code",
   "execution_count": 10,
   "id": "ce989c45",
   "metadata": {},
   "outputs": [
    {
     "data": {
      "text/plain": [
       "104000.0"
      ]
     },
     "execution_count": 10,
     "metadata": {},
     "output_type": "execute_result"
    }
   ],
   "source": [
    "emp1.pay"
   ]
  },
  {
   "cell_type": "code",
   "execution_count": 11,
   "id": "1a24cff4",
   "metadata": {},
   "outputs": [],
   "source": [
    "emp1.applyRaise()"
   ]
  },
  {
   "cell_type": "code",
   "execution_count": 12,
   "id": "401c3fb4",
   "metadata": {},
   "outputs": [
    {
     "data": {
      "text/plain": [
       "109200.0"
      ]
     },
     "execution_count": 12,
     "metadata": {},
     "output_type": "execute_result"
    }
   ],
   "source": [
    "emp1.pay"
   ]
  },
  {
   "cell_type": "code",
   "execution_count": 13,
   "id": "13acf840",
   "metadata": {},
   "outputs": [],
   "source": [
    "emp2 = Employee.fromString(\"john-doe-5000\")"
   ]
  },
  {
   "cell_type": "code",
   "execution_count": 14,
   "id": "cbbde653",
   "metadata": {},
   "outputs": [
    {
     "data": {
      "text/plain": [
       "'john.doe@company.com'"
      ]
     },
     "execution_count": 14,
     "metadata": {},
     "output_type": "execute_result"
    }
   ],
   "source": [
    "emp2.email"
   ]
  },
  {
   "cell_type": "code",
   "execution_count": null,
   "id": "43b8083f",
   "metadata": {},
   "outputs": [],
   "source": []
  }
 ],
 "metadata": {
  "kernelspec": {
   "display_name": "Python 3 (ipykernel)",
   "language": "python",
   "name": "python3"
  },
  "language_info": {
   "codemirror_mode": {
    "name": "ipython",
    "version": 3
   },
   "file_extension": ".py",
   "mimetype": "text/x-python",
   "name": "python",
   "nbconvert_exporter": "python",
   "pygments_lexer": "ipython3",
   "version": "3.10.11"
  }
 },
 "nbformat": 4,
 "nbformat_minor": 5
}
