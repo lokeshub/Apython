{
 "cells": [
  {
   "cell_type": "markdown",
   "id": "3a479746",
   "metadata": {},
   "source": [
    "#### Class declaration"
   ]
  },
  {
   "cell_type": "markdown",
   "id": "5d4c32d0",
   "metadata": {},
   "source": [
    "##### Points\n",
    "- use super() with braces in derived class constructor"
   ]
  },
  {
   "cell_type": "code",
   "execution_count": 1,
   "id": "0a3dfe03",
   "metadata": {},
   "outputs": [],
   "source": [
    "class Employee:\n",
    "    num_of_employee = 0\n",
    "    raise_amount = 1.04\n",
    "    \n",
    "    def __init__(self, fname, lname, pay):\n",
    "        self.fname = fname\n",
    "        self.lname = lname\n",
    "        self.pay = pay\n",
    "        self.email = \"\".join((fname, \".\", lname, \"@company.com\"))\n",
    "        Employee.num_of_employee += 1\n",
    "        \n",
    "    def fullName(self):\n",
    "        full = \" \".join((self.fname, self.lname))\n",
    "        return full"
   ]
  },
  {
   "cell_type": "code",
   "execution_count": 2,
   "id": "68f91355",
   "metadata": {},
   "outputs": [],
   "source": [
    "class Developer(Employee):\n",
    "    raise_amount = 1.10\n",
    "    \n",
    "    def __init__(self, fname, lname, pay, language):\n",
    "        super().__init__(fname, lname, pay)\n",
    "        self.language = language"
   ]
  },
  {
   "cell_type": "code",
   "execution_count": 3,
   "id": "7d5b2ad8",
   "metadata": {},
   "outputs": [],
   "source": [
    "class Manager(Employee):\n",
    "    def __init__(self, first, last, pay, employees = None):\n",
    "        super().__init__(first, last, pay)\n",
    "        if employees == None:\n",
    "            self.employees = []\n",
    "        else:\n",
    "            self.employees = employees\n",
    "        \n",
    "    \n",
    "    def add_employee(self, emp):\n",
    "        if emp not in self.employees:\n",
    "            self.employees.append(emp)\n",
    "            \n",
    "    def remove_employee(self, emp):\n",
    "        if emp in self.employees:\n",
    "            self.employees.remove(emp)\n",
    "            \n",
    "    def print_emp(self):\n",
    "        for emp in self.employees:\n",
    "            print (\"->\", emp.fullName())"
   ]
  },
  {
   "cell_type": "code",
   "execution_count": 4,
   "id": "3f0c5f4c",
   "metadata": {},
   "outputs": [],
   "source": [
    "dev1 = Developer(\"Steve\", \"Jobs\", 5000, \"Swift\")"
   ]
  },
  {
   "cell_type": "code",
   "execution_count": 5,
   "id": "7b60aaac",
   "metadata": {},
   "outputs": [],
   "source": [
    "dev2 = Developer(\"Bill\", \"Gates\", 6000, \"basic\")"
   ]
  },
  {
   "cell_type": "code",
   "execution_count": 6,
   "id": "871b0d44",
   "metadata": {},
   "outputs": [],
   "source": [
    "manag1 = Manager(\"Dennis\", \"Ritchie\", 10000, employees=[dev1])"
   ]
  },
  {
   "cell_type": "code",
   "execution_count": 7,
   "id": "2b4d65f2",
   "metadata": {},
   "outputs": [
    {
     "name": "stdout",
     "output_type": "stream",
     "text": [
      "-> Steve Jobs\n"
     ]
    }
   ],
   "source": [
    "manag1.print_emp()"
   ]
  },
  {
   "cell_type": "code",
   "execution_count": 8,
   "id": "661a6d70",
   "metadata": {},
   "outputs": [],
   "source": [
    "manag1.add_employee(dev2)"
   ]
  },
  {
   "cell_type": "code",
   "execution_count": 9,
   "id": "0024453d",
   "metadata": {},
   "outputs": [
    {
     "name": "stdout",
     "output_type": "stream",
     "text": [
      "-> Steve Jobs\n",
      "-> Bill Gates\n"
     ]
    }
   ],
   "source": [
    "manag1.print_emp()"
   ]
  },
  {
   "cell_type": "code",
   "execution_count": 10,
   "id": "ebe81445",
   "metadata": {},
   "outputs": [],
   "source": [
    "dev3 = Developer(\"Iron\", \"Man\", 7000, \"C++\")"
   ]
  },
  {
   "cell_type": "code",
   "execution_count": 11,
   "id": "20914dcb",
   "metadata": {},
   "outputs": [],
   "source": [
    "manag1.add_employee(dev3)"
   ]
  },
  {
   "cell_type": "code",
   "execution_count": 12,
   "id": "effba09b",
   "metadata": {},
   "outputs": [],
   "source": [
    "manag1.remove_employee(dev2)"
   ]
  },
  {
   "cell_type": "code",
   "execution_count": 13,
   "id": "b950f762",
   "metadata": {},
   "outputs": [
    {
     "name": "stdout",
     "output_type": "stream",
     "text": [
      "-> Steve Jobs\n",
      "-> Iron Man\n"
     ]
    }
   ],
   "source": [
    "manag1.print_emp()"
   ]
  },
  {
   "cell_type": "code",
   "execution_count": null,
   "id": "c516181d",
   "metadata": {},
   "outputs": [],
   "source": []
  }
 ],
 "metadata": {
  "kernelspec": {
   "display_name": "Python 3 (ipykernel)",
   "language": "python",
   "name": "python3"
  },
  "language_info": {
   "codemirror_mode": {
    "name": "ipython",
    "version": 3
   },
   "file_extension": ".py",
   "mimetype": "text/x-python",
   "name": "python",
   "nbconvert_exporter": "python",
   "pygments_lexer": "ipython3",
   "version": "3.10.11"
  }
 },
 "nbformat": 4,
 "nbformat_minor": 5
}
